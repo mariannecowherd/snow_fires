{
 "cells": [
  {
   "cell_type": "code",
   "execution_count": 1,
   "metadata": {},
   "outputs": [],
   "source": [
    "import numpy as np\n",
    "import matplotlib.pyplot as plt\n",
    "import os, glob\n",
    "import geopandas as gpd\n",
    "import rioxarray as rxr\n",
    "import rasterio\n",
    "from rasterio.plot import show, adjust_band\n",
    "from matplotlib import cm\n",
    "import matplotlib\n",
    "from scipy import stats\n",
    "import datetime\n",
    "# from constants import *  # this needs to run on a slurm kernel \n",
    "import pandas as pd\n",
    "import pickle\n",
    "\n",
    "homedir = '/global/home/users/cowherd/snow_fires/'\n",
    "datadir = '/global/scratch/users/cowherd/'\n",
    "\n",
    "os.chdir(homedir)\n",
    "# plt.style.use(homedir+'stylefile.mplstyle')"
   ]
  },
  {
   "cell_type": "code",
   "execution_count": null,
   "metadata": {},
   "outputs": [],
   "source": [
    "## pre-fire streamflow data for each basin\n",
    "## and make it related to the climate. what does climate mean? need prism data for this."
   ]
  },
  {
   "cell_type": "code",
   "execution_count": null,
   "metadata": {},
   "outputs": [],
   "source": [
    "## post-fire streamflow data for each basin"
   ]
  }
 ],
 "metadata": {
  "kernelspec": {
   "display_name": "snow",
   "language": "python",
   "name": "snow"
  },
  "language_info": {
   "codemirror_mode": {
    "name": "ipython",
    "version": 3
   },
   "file_extension": ".py",
   "mimetype": "text/x-python",
   "name": "python",
   "nbconvert_exporter": "python",
   "pygments_lexer": "ipython3",
   "version": "3.9.7"
  }
 },
 "nbformat": 4,
 "nbformat_minor": 2
}
