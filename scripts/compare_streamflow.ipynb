{
 "cells": [
  {
   "cell_type": "code",
   "execution_count": 6,
   "metadata": {},
   "outputs": [],
   "source": [
    "import numpy as np\n",
    "import matplotlib.pyplot as plt\n",
    "import os, glob\n",
    "import geopandas as gpd\n",
    "#import rioxarray as rxr\n",
    "#import rasterio\n",
    "from rasterio.plot import show, adjust_band\n",
    "from matplotlib import cm\n",
    "import matplotlib\n",
    "from scipy import stats\n",
    "import datetime\n",
    "# from constants import *  # this needs to run on a slurm kernel \n",
    "import pandas as pd\n",
    "import pickle\n",
    "\n",
    "\n",
    "from dirs import homedir, datadir, rawdatadir, figdir\n",
    "\n",
    "sdir = '/home/marianne/data/basin_streamflow/'\n",
    "os.chdir(homedir)\n",
    "plt.style.use(homedir+'stylefile.mplstyle')\n",
    "\n",
    "##with open(datadir + 'gaged_basins.pickle', 'rb') as handle:\n",
    "  #  gaged_basins = pickle.load(handle)\n",
    "\n",
    "    \n",
    "with open(datadir + 'streamflow_metadata.pickle', 'rb') as handle:\n",
    "    streamflow_metadata = pickle.load(handle)\n",
    "    "
   ]
  },
  {
   "cell_type": "code",
   "execution_count": 7,
   "metadata": {},
   "outputs": [
    {
     "ename": "FileNotFoundError",
     "evalue": "[Errno 2] No such file or directory: '/home/marianne/data/basin_streamflow/'",
     "output_type": "error",
     "traceback": [
      "\u001b[0;31m---------------------------------------------------------------------------\u001b[0m",
      "\u001b[0;31mFileNotFoundError\u001b[0m                         Traceback (most recent call last)",
      "Input \u001b[0;32mIn [7]\u001b[0m, in \u001b[0;36m<cell line: 3>\u001b[0;34m()\u001b[0m\n\u001b[1;32m      1\u001b[0m \u001b[38;5;66;03m## pre-fire streamflow data for each basin\u001b[39;00m\n\u001b[1;32m      2\u001b[0m \u001b[38;5;66;03m## and make it related to the climate. what does climate mean? need prism data for this.\u001b[39;00m\n\u001b[0;32m----> 3\u001b[0m files \u001b[38;5;241m=\u001b[39m \u001b[43mos\u001b[49m\u001b[38;5;241;43m.\u001b[39;49m\u001b[43mlistdir\u001b[49m\u001b[43m \u001b[49m\u001b[43m(\u001b[49m\u001b[43msdir\u001b[49m\u001b[43m)\u001b[49m\n\u001b[1;32m      5\u001b[0m \u001b[38;5;28;01mfor\u001b[39;00m i \u001b[38;5;129;01min\u001b[39;00m \u001b[38;5;28mrange\u001b[39m(\u001b[38;5;28mlen\u001b[39m(streamflow_metadata))[\u001b[38;5;241m0\u001b[39m:\u001b[38;5;241m10\u001b[39m]:\n\u001b[1;32m      6\u001b[0m     entry \u001b[38;5;241m=\u001b[39m streamflow_metadata\u001b[38;5;241m.\u001b[39mloc[i]\n",
      "\u001b[0;31mFileNotFoundError\u001b[0m: [Errno 2] No such file or directory: '/home/marianne/data/basin_streamflow/'"
     ]
    }
   ],
   "source": [
    "## pre-fire streamflow data for each basin\n",
    "## and make it related to the climate. what does climate mean? need prism data for this.\n",
    "files = os.listdir (sdir)\n",
    "\n",
    "for i in range(len(streamflow_metadata))[0:10]:\n",
    "    entry = streamflow_metadata.loc[i]\n",
    "    gid = entry.Gauge_ID\n",
    "    fy = entry.Fire_Year\n",
    "    sf = pickle.load(open(sdir + 'streamflow'+gid+'.pickle','rb'))\n",
    "    datetemp = sf.index\n",
    "    dates=[]\n",
    "    for d in datetemp:\n",
    "        yr = int(d[0:4])\n",
    "        mo = int(d[5:7])\n",
    "        da = int(d[8:10])\n",
    "        hr = int(d[11:13])\n",
    "        mi = int(d[14:16])\n",
    "        datet = datetime.datetime(year=yr,month=mo,day=da,hour=hr,minute=mi)\n",
    "        dates.append(datet)\n",
    "    sf2 = pd.DataFrame(data= {'dt':dates, 'sf': sf.streamflow})\n",
    "    "
   ]
  },
  {
   "cell_type": "code",
   "execution_count": 33,
   "metadata": {},
   "outputs": [
    {
     "data": {
      "text/plain": [
       "'30'"
      ]
     },
     "execution_count": 33,
     "metadata": {},
     "output_type": "execute_result"
    }
   ],
   "source": [
    "sf.streamflow.index[0][14:16]"
   ]
  },
  {
   "cell_type": "code",
   "execution_count": null,
   "metadata": {},
   "outputs": [],
   "source": [
    "## post-fire streamflow data for each basin"
   ]
  }
 ],
 "metadata": {
  "interpreter": {
   "hash": "6780c48768e55a5d65d3b77a4ec571a6022889642d79e9abe30e98f5fbd9cad9"
  },
  "kernelspec": {
   "display_name": "earthenv",
   "language": "python",
   "name": "earthenv"
  },
  "language_info": {
   "codemirror_mode": {
    "name": "ipython",
    "version": 3
   },
   "file_extension": ".py",
   "mimetype": "text/x-python",
   "name": "python",
   "nbconvert_exporter": "python",
   "pygments_lexer": "ipython3",
   "version": "3.8.13"
  }
 },
 "nbformat": 4,
 "nbformat_minor": 2
}
