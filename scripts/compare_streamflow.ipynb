{
 "cells": [
  {
   "cell_type": "code",
   "execution_count": 8,
   "metadata": {},
   "outputs": [],
   "source": [
    "import numpy as np\n",
    "import matplotlib.pyplot as plt\n",
    "import os, glob\n",
    "import geopandas as gpd\n",
    "#import rioxarray as rxr\n",
    "import rasterio\n",
    "from rasterio.plot import show, adjust_band\n",
    "from matplotlib import cm\n",
    "import matplotlib\n",
    "from scipy import stats\n",
    "import datetime\n",
    "# from constants import *  # this needs to run on a slurm kernel \n",
    "import pandas as pd\n",
    "import pickle\n",
    "\n",
    "homedir = '/global/home/users/cowherd/snow_fires/'\n",
    "datadir = '/global/scratch/users/cowherd/'\n",
    "\n",
    "homedir = '/home/marianne/Documents/snow_fires/'\n",
    "datadir = homedir + 'data/'\n",
    "\n",
    "sdir = '/home/marianne/data/basin_streamflow/'\n",
    "os.chdir(homedir)\n",
    "# plt.style.use(homedir+'stylefile.mplstyle')\n",
    "\n",
    "with open(datadir + 'gaged_basins.pickle', 'rb') as handle:\n",
    "    gaged_basins = pickle.load(handle)\n",
    "    \n",
    "with open(datadir + 'streamflow_metadata.pickle', 'rb') as handle:\n",
    "    streamflow_metadata = pickle.load(handle)\n",
    "    "
   ]
  },
  {
   "cell_type": "code",
   "execution_count": 49,
   "metadata": {},
   "outputs": [
    {
     "ename": "FileNotFoundError",
     "evalue": "[Errno 2] No such file or directory: '/home/marianne/data/basin_streamflow/streamflow06093200.pickle'",
     "output_type": "error",
     "traceback": [
      "\u001b[0;31m---------------------------------------------------------------------------\u001b[0m",
      "\u001b[0;31mFileNotFoundError\u001b[0m                         Traceback (most recent call last)",
      "\u001b[1;32m/home/marianne/Documents/snow_fires/scripts/compare_streamflow.ipynb Cell 2'\u001b[0m in \u001b[0;36m<cell line: 5>\u001b[0;34m()\u001b[0m\n\u001b[1;32m      <a href='vscode-notebook-cell:/home/marianne/Documents/snow_fires/scripts/compare_streamflow.ipynb#ch0000001?line=6'>7</a>\u001b[0m gid \u001b[39m=\u001b[39m entry\u001b[39m.\u001b[39mGauge_ID\n\u001b[1;32m      <a href='vscode-notebook-cell:/home/marianne/Documents/snow_fires/scripts/compare_streamflow.ipynb#ch0000001?line=7'>8</a>\u001b[0m fy \u001b[39m=\u001b[39m entry\u001b[39m.\u001b[39mFire_Year\n\u001b[0;32m----> <a href='vscode-notebook-cell:/home/marianne/Documents/snow_fires/scripts/compare_streamflow.ipynb#ch0000001?line=8'>9</a>\u001b[0m sf \u001b[39m=\u001b[39m pickle\u001b[39m.\u001b[39mload(\u001b[39mopen\u001b[39;49m(sdir \u001b[39m+\u001b[39;49m \u001b[39m'\u001b[39;49m\u001b[39mstreamflow\u001b[39;49m\u001b[39m'\u001b[39;49m\u001b[39m+\u001b[39;49mgid\u001b[39m+\u001b[39;49m\u001b[39m'\u001b[39;49m\u001b[39m.pickle\u001b[39;49m\u001b[39m'\u001b[39;49m,\u001b[39m'\u001b[39;49m\u001b[39mrb\u001b[39;49m\u001b[39m'\u001b[39;49m))\n\u001b[1;32m     <a href='vscode-notebook-cell:/home/marianne/Documents/snow_fires/scripts/compare_streamflow.ipynb#ch0000001?line=9'>10</a>\u001b[0m datetemp \u001b[39m=\u001b[39m sf\u001b[39m.\u001b[39mindex\n\u001b[1;32m     <a href='vscode-notebook-cell:/home/marianne/Documents/snow_fires/scripts/compare_streamflow.ipynb#ch0000001?line=10'>11</a>\u001b[0m dates\u001b[39m=\u001b[39m[]\n",
      "\u001b[0;31mFileNotFoundError\u001b[0m: [Errno 2] No such file or directory: '/home/marianne/data/basin_streamflow/streamflow06093200.pickle'"
     ]
    }
   ],
   "source": [
    "## pre-fire streamflow data for each basin\n",
    "## and make it related to the climate. what does climate mean? need prism data for this.\n",
    "files = os.listdir (sdir)\n",
    "\n",
    "for i in range(len(streamflow_metadata))[0:10]:\n",
    "    entry = streamflow_metadata.loc[i]\n",
    "    gid = entry.Gauge_ID\n",
    "    fy = entry.Fire_Year\n",
    "    sf = pickle.load(open(sdir + 'streamflow'+gid+'.pickle','rb'))\n",
    "    datetemp = sf.index\n",
    "    dates=[]\n",
    "    for d in datetemp:\n",
    "        yr = int(d[0:4])\n",
    "        mo = int(d[5:7])\n",
    "        da = int(d[8:10])\n",
    "        hr = int(d[11:13])\n",
    "        mi = int(d[14:16])\n",
    "        datet = datetime.datetime(year=yr,month=mo,day=da,hour=hr,minute=mi)\n",
    "        dates.append(datet)\n",
    "    sf2 = pd.DataFrame(data= {'dt':dates, 'sf': sf.streamflow})\n",
    "    "
   ]
  },
  {
   "cell_type": "code",
   "execution_count": 50,
   "metadata": {},
   "outputs": [
    {
     "data": {
      "text/html": [
       "<div>\n",
       "<style scoped>\n",
       "    .dataframe tbody tr th:only-of-type {\n",
       "        vertical-align: middle;\n",
       "    }\n",
       "\n",
       "    .dataframe tbody tr th {\n",
       "        vertical-align: top;\n",
       "    }\n",
       "\n",
       "    .dataframe thead th {\n",
       "        text-align: right;\n",
       "    }\n",
       "</style>\n",
       "<table border=\"1\" class=\"dataframe\">\n",
       "  <thead>\n",
       "    <tr style=\"text-align: right;\">\n",
       "      <th></th>\n",
       "      <th>dt</th>\n",
       "      <th>sf</th>\n",
       "    </tr>\n",
       "  </thead>\n",
       "  <tbody>\n",
       "    <tr>\n",
       "      <th>1990-10-01T00:30:00.000-06:00</th>\n",
       "      <td>1990-10-01 00:30:00</td>\n",
       "      <td>98.0</td>\n",
       "    </tr>\n",
       "    <tr>\n",
       "      <th>1990-10-01T01:00:00.000-06:00</th>\n",
       "      <td>1990-10-01 01:00:00</td>\n",
       "      <td>99.7</td>\n",
       "    </tr>\n",
       "    <tr>\n",
       "      <th>1990-10-01T01:30:00.000-06:00</th>\n",
       "      <td>1990-10-01 01:30:00</td>\n",
       "      <td>99.7</td>\n",
       "    </tr>\n",
       "    <tr>\n",
       "      <th>1990-10-01T02:00:00.000-06:00</th>\n",
       "      <td>1990-10-01 02:00:00</td>\n",
       "      <td>99.7</td>\n",
       "    </tr>\n",
       "    <tr>\n",
       "      <th>1990-10-01T02:30:00.000-06:00</th>\n",
       "      <td>1990-10-01 02:30:00</td>\n",
       "      <td>99.7</td>\n",
       "    </tr>\n",
       "    <tr>\n",
       "      <th>...</th>\n",
       "      <td>...</td>\n",
       "      <td>...</td>\n",
       "    </tr>\n",
       "    <tr>\n",
       "      <th>2022-05-05T18:45:00.000-06:00</th>\n",
       "      <td>2022-05-05 18:45:00</td>\n",
       "      <td>209</td>\n",
       "    </tr>\n",
       "    <tr>\n",
       "      <th>2022-05-05T19:00:00.000-06:00</th>\n",
       "      <td>2022-05-05 19:00:00</td>\n",
       "      <td>215</td>\n",
       "    </tr>\n",
       "    <tr>\n",
       "      <th>2022-05-05T19:15:00.000-06:00</th>\n",
       "      <td>2022-05-05 19:15:00</td>\n",
       "      <td>215</td>\n",
       "    </tr>\n",
       "    <tr>\n",
       "      <th>2022-05-05T19:30:00.000-06:00</th>\n",
       "      <td>2022-05-05 19:30:00</td>\n",
       "      <td>209</td>\n",
       "    </tr>\n",
       "    <tr>\n",
       "      <th>2022-05-05T19:45:00.000-06:00</th>\n",
       "      <td>2022-05-05 19:45:00</td>\n",
       "      <td>209</td>\n",
       "    </tr>\n",
       "  </tbody>\n",
       "</table>\n",
       "<p>867505 rows × 2 columns</p>\n",
       "</div>"
      ],
      "text/plain": [
       "                                               dt    sf\n",
       "1990-10-01T00:30:00.000-06:00 1990-10-01 00:30:00  98.0\n",
       "1990-10-01T01:00:00.000-06:00 1990-10-01 01:00:00  99.7\n",
       "1990-10-01T01:30:00.000-06:00 1990-10-01 01:30:00  99.7\n",
       "1990-10-01T02:00:00.000-06:00 1990-10-01 02:00:00  99.7\n",
       "1990-10-01T02:30:00.000-06:00 1990-10-01 02:30:00  99.7\n",
       "...                                           ...   ...\n",
       "2022-05-05T18:45:00.000-06:00 2022-05-05 18:45:00   209\n",
       "2022-05-05T19:00:00.000-06:00 2022-05-05 19:00:00   215\n",
       "2022-05-05T19:15:00.000-06:00 2022-05-05 19:15:00   215\n",
       "2022-05-05T19:30:00.000-06:00 2022-05-05 19:30:00   209\n",
       "2022-05-05T19:45:00.000-06:00 2022-05-05 19:45:00   209\n",
       "\n",
       "[867505 rows x 2 columns]"
      ]
     },
     "execution_count": 50,
     "metadata": {},
     "output_type": "execute_result"
    }
   ],
   "source": [
    "sf2"
   ]
  },
  {
   "cell_type": "code",
   "execution_count": 33,
   "metadata": {},
   "outputs": [
    {
     "data": {
      "text/plain": [
       "'30'"
      ]
     },
     "execution_count": 33,
     "metadata": {},
     "output_type": "execute_result"
    }
   ],
   "source": [
    "sf.streamflow.index[0][14:16]"
   ]
  },
  {
   "cell_type": "code",
   "execution_count": null,
   "metadata": {},
   "outputs": [],
   "source": [
    "## post-fire streamflow data for each basin"
   ]
  }
 ],
 "metadata": {
  "interpreter": {
   "hash": "6780c48768e55a5d65d3b77a4ec571a6022889642d79e9abe30e98f5fbd9cad9"
  },
  "kernelspec": {
   "display_name": "Python 3.10.4 ('snow')",
   "language": "python",
   "name": "python3"
  },
  "language_info": {
   "codemirror_mode": {
    "name": "ipython",
    "version": 3
   },
   "file_extension": ".py",
   "mimetype": "text/x-python",
   "name": "python",
   "nbconvert_exporter": "python",
   "pygments_lexer": "ipython3",
   "version": "3.10.4"
  }
 },
 "nbformat": 4,
 "nbformat_minor": 2
}
