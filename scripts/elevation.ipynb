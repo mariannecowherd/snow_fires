{
 "cells": [
  {
   "cell_type": "code",
   "execution_count": 1,
   "metadata": {},
   "outputs": [
    {
     "name": "stdout",
     "output_type": "stream",
     "text": [
      "Collecting elevation\n",
      "  Downloading https://files.pythonhosted.org/packages/17/c1/ee55b817ef71bbb339ec3ad5c7e265b24e27968336468f46b1a7cb821681/elevation-1.1.3-py3-none-any.whl\n",
      "Collecting fasteners (from elevation)\n",
      "  Downloading https://files.pythonhosted.org/packages/f6/01/274da83334c20dc1ae7a48b1ea4ae50d3571d4e6aea65bb0368f841701ad/fasteners-0.17.3-py3-none-any.whl\n",
      "Requirement already satisfied: click in /global/software/sl-7.x86_64/modules/langs/python/3.7/lib/python3.7/site-packages (from elevation) (7.0)\n",
      "Collecting appdirs (from elevation)\n",
      "  Downloading https://files.pythonhosted.org/packages/3b/00/2344469e2084fb287c2e0b57b72910309874c3245463acd6cf5e3db69324/appdirs-1.4.4-py2.py3-none-any.whl\n",
      "Installing collected packages: fasteners, appdirs, elevation\n",
      "\u001b[31mERROR: Could not install packages due to an EnvironmentError: [Errno 30] Read-only file system: '/global/software/sl-7.x86_64/modules/langs/python/3.7/lib/python3.7/site-packages/fasteners'\n",
      "\u001b[0m\n"
     ]
    },
    {
     "ename": "ModuleNotFoundError",
     "evalue": "No module named 'elevation'",
     "output_type": "error",
     "traceback": [
      "\u001b[0;31m---------------------------------------------------------------------------\u001b[0m",
      "\u001b[0;31mModuleNotFoundError\u001b[0m                       Traceback (most recent call last)",
      "\u001b[0;32m<ipython-input-1-362edb520642>\u001b[0m in \u001b[0;36m<module>\u001b[0;34m\u001b[0m\n\u001b[1;32m      1\u001b[0m \u001b[0mget_ipython\u001b[0m\u001b[0;34m(\u001b[0m\u001b[0;34m)\u001b[0m\u001b[0;34m.\u001b[0m\u001b[0msystem\u001b[0m\u001b[0;34m(\u001b[0m\u001b[0;34m'pip install elevation'\u001b[0m\u001b[0;34m)\u001b[0m\u001b[0;34m\u001b[0m\u001b[0;34m\u001b[0m\u001b[0m\n\u001b[0;32m----> 2\u001b[0;31m \u001b[0;32mimport\u001b[0m \u001b[0melevation\u001b[0m\u001b[0;34m\u001b[0m\u001b[0;34m\u001b[0m\u001b[0m\n\u001b[0m\u001b[1;32m      3\u001b[0m \u001b[0mhomedir\u001b[0m \u001b[0;34m=\u001b[0m \u001b[0;34m'/global/home/users/cowherd/'\u001b[0m\u001b[0;34m\u001b[0m\u001b[0;34m\u001b[0m\u001b[0m\n\u001b[1;32m      4\u001b[0m \u001b[0mdatadir\u001b[0m \u001b[0;34m=\u001b[0m \u001b[0;34m'global/scratch/users/cowherd/'\u001b[0m\u001b[0;34m\u001b[0m\u001b[0;34m\u001b[0m\u001b[0m\n",
      "\u001b[0;31mModuleNotFoundError\u001b[0m: No module named 'elevation'"
     ]
    }
   ],
   "source": [
    "!pip install elevation\n",
    "import elevation\n",
    "homedir = '/global/home/users/cowherd/'\n",
    "datadir = 'global/scratch/users/cowherd/'"
   ]
  },
  {
   "cell_type": "code",
   "execution_count": null,
   "metadata": {},
   "outputs": [],
   "source": [
    "## set up bounds\n",
    "latmin = -126\n",
    "latmax = -103\n",
    "lonmin = 31\n",
    "lonmax = 50"
   ]
  },
  {
   "cell_type": "code",
   "execution_count": null,
   "metadata": {},
   "outputs": [],
   "source": [
    "elevation.clip(bounds = (latmin, latmax, lonmin, lonmax),ouput=WCONUS_DEM.tif)\n",
    "elevation.clean()"
   ]
  },
  {
   "cell_type": "code",
   "execution_count": null,
   "metadata": {},
   "outputs": [],
   "source": [
    ">>> import elevation\n",
    ">>> # clip the SRTM1 30m DEM of Rome and save it to Rome-DEM.tif\n",
    ">>> elevation.clip(bounds=(12.35, 41.8, 12.65, 42), output='Rome-DEM.tif')\n",
    ">>> # clean up stale temporary files and fix the cache in the event of a server error\n",
    ">>> elevation.clean()"
   ]
  }
 ],
 "metadata": {
  "kernelspec": {
   "display_name": "Python 3.7",
   "language": "python",
   "name": "python3"
  },
  "language_info": {
   "codemirror_mode": {
    "name": "ipython",
    "version": 3
   },
   "file_extension": ".py",
   "mimetype": "text/x-python",
   "name": "python",
   "nbconvert_exporter": "python",
   "pygments_lexer": "ipython3",
   "version": "3.7.4"
  }
 },
 "nbformat": 4,
 "nbformat_minor": 2
}
