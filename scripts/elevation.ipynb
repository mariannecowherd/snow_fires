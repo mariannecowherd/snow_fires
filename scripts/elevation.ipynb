{
 "cells": [
  {
   "cell_type": "code",
   "execution_count": null,
   "metadata": {},
   "outputs": [
    {
     "ename": "",
     "evalue": "",
     "output_type": "error",
     "traceback": [
      "\u001b[1;31mRunning cells with 'Python 3.9.7 64-bit' requires ipykernel package.\n",
      "Run the following command to install 'ipykernel' into the Python environment. \n",
      "Command: '/bin/python3 -m pip install ipykernel -U --user --force-reinstall'"
     ]
    }
   ],
   "source": [
    "import elevation\n",
    "homedir = '/global/home/users/cowherd/'\n",
    "datadir = 'global/scratch/users/cowherd/'"
   ]
  },
  {
   "cell_type": "code",
   "execution_count": null,
   "metadata": {},
   "outputs": [],
   "source": [
    "## set up bounds\n",
    "latmin = -126\n",
    "latmax = -103\n",
    "lonmin = 31\n",
    "lonmax = 50"
   ]
  },
  {
   "cell_type": "code",
   "execution_count": null,
   "metadata": {},
   "outputs": [],
   "source": [
    "elevation.clip(bounds = (latmin, latmax, lonmin, lonmax),ouput=WCONUS_DEM.tif)\n",
    "elevation.clean()"
   ]
  },
  {
   "cell_type": "code",
   "execution_count": null,
   "metadata": {},
   "outputs": [],
   "source": [
    ">>> import elevation\n",
    ">>> # clip the SRTM1 30m DEM of Rome and save it to Rome-DEM.tif\n",
    ">>> elevation.clip(bounds=(12.35, 41.8, 12.65, 42), output='Rome-DEM.tif')\n",
    ">>> # clean up stale temporary files and fix the cache in the event of a server error\n",
    ">>> elevation.clean()"
   ]
  }
 ],
 "metadata": {
  "kernelspec": {
   "display_name": "Python 3.7",
   "language": "python",
   "name": "python3"
  },
  "language_info": {
   "codemirror_mode": {
    "name": "ipython",
    "version": 3
   },
   "file_extension": ".py",
   "mimetype": "text/x-python",
   "name": "python",
   "nbconvert_exporter": "python",
   "pygments_lexer": "ipython3",
   "version": "3.10.4"
  }
 },
 "nbformat": 4,
 "nbformat_minor": 2
}
