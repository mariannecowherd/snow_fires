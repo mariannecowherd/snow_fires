{
 "cells": [
  {
   "cell_type": "code",
   "execution_count": 20,
   "metadata": {},
   "outputs": [],
   "source": [
    "import json\n",
    "# import requests\n",
    "import numpy as np\n",
    "import matplotlib.pyplot as plt\n",
    "import datetime as dt\n",
    "import pandas as pd\n",
    "import pickle\n",
    "from constants import *\n",
    "# import rioxarray as rxr\n",
    "from pyproj import crs\n",
    "import os\n",
    "import glob\n",
    "from shapely.geometry import Point\n",
    "import requests\n",
    "import rasterio as rio\n",
    "#import pygeos\n",
    "import geopandas as gpd, geopandas\n",
    "\n",
    "geopandas.options.use_pygeos = False\n",
    "\n",
    "homedir = '/home/marianne/Documents/snow_fires/'\n",
    "rawdatadir = '/home/marianne/Documents/data/'\n",
    "datadir = homedir + 'data/'\n",
    "# homedir = '/global/home/users/cowherd/snow_fires/'\n",
    "# rawdatadir = '/global/scratch/users/cowherd/'\n",
    "\n",
    "os.chdir(homedir)\n",
    "\n",
    "wgs_crs = crs.CRS('epsg:4326')\n",
    "use_crs = wgs_crs\n",
    "\n",
    "#from load_data import *\n",
    "## gives fires_allyears, wfigs20, gages_metadata, bas_all, gaged_basins_gdf, snowzone\n",
    "## all in wgs crs\n"
   ]
  },
  {
   "cell_type": "code",
   "execution_count": 4,
   "metadata": {},
   "outputs": [],
   "source": [
    "with open(datadir + 'gaged_basins.pickle', 'rb') as handle:\n",
    "    gaged_basins = pickle.load(handle)\n",
    "  \n",
    "#with open(datadir + 'streamflow_metadata.pickle', 'rb') as handle:\n",
    "#    streamflow_metadata = pickle.load(handle)\n",
    "    \n",
    "with open(datadir + 'target_basins.pickle', 'rb') as handle:\n",
    "    target_basins = pickle.load(handle)"
   ]
  },
  {
   "cell_type": "code",
   "execution_count": 3,
   "metadata": {},
   "outputs": [],
   "source": [
    "## target watersheds for the SNSR\n",
    "names = ['East Branch N. Fork Feather',\n",
    "         'Upper Mokelumne',\n",
    "         'Upper Merced',\n",
    "         'Upper Kaweah',\n",
    "         'Upper Tule',\n",
    "         'Upper Kern',\n",
    "         'South Fork Kern'\n",
    "        ]\n",
    "gage_ids = [11402000,\n",
    "            11318500,\n",
    "            11266500,\n",
    "            11208000,\n",
    "            11202710,\n",
    "            11185500,\n",
    "            11189500\n",
    "           ]\n",
    "target_gages = pd.DataFrame({\n",
    "    'name':names,\n",
    "    'gage_id':gage_ids\n",
    "})"
   ]
  },
  {
   "cell_type": "code",
   "execution_count": 18,
   "metadata": {},
   "outputs": [],
   "source": [
    "'''allgages = gpd.read_file(datadir + 'gagesii/gagesII_9322_sept30_2011.shp')\n",
    "## are all of them already in my metadata file from before?\n",
    "pts = []\n",
    "for i in range(len(target_gages)):\n",
    "    g = target_gages['gage_id'][i]\n",
    "    tmp = allgages[allgages['STAID']==str(g)]\n",
    "    if len(tmp)==0:\n",
    "        print('no ' + str(g))\n",
    "        pts.append(np.nan)\n",
    "    else:\n",
    "        pts.append(tmp['geometry'].to_crs('epsg:4326'))'''\n",
    "\n",
    "## did some copypasting to get below"
   ]
  },
  {
   "cell_type": "code",
   "execution_count": 4,
   "metadata": {},
   "outputs": [],
   "source": [
    "lats=[-120.95440,\n",
    "-120.54548,\n",
    "-119.66628,\n",
    "-118.79927,\n",
    "-118.70954,\n",
    "-118.467586, \n",
    "-118.17369]\n",
    "lons=[40.00295,\n",
    "38.36825,\n",
    "37.71687,\n",
    "36.52189,\n",
    "36.16134,\n",
    "35.90550439,\n",
    "35.73745]\n",
    "\n",
    "points = [Point(xy) for xy in zip(lats,lons)]"
   ]
  },
  {
   "cell_type": "code",
   "execution_count": 5,
   "metadata": {},
   "outputs": [
    {
     "name": "stdout",
     "output_type": "stream",
     "text": [
      "yes watershed 11402000\n",
      "yes watershed 11318500\n",
      "yes watershed 11266500\n",
      "yes watershed 11208000\n",
      "yes watershed 11202710\n",
      "no watershed 11185500\n",
      "yes watershed 11189500\n"
     ]
    },
    {
     "name": "stderr",
     "output_type": "stream",
     "text": [
      "/global/home/users/cowherd/.conda/envs/snow/lib/python3.9/site-packages/geopandas/io/file.py:362: FutureWarning: pandas.Int64Index is deprecated and will be removed from pandas in a future version. Use pandas.Index with the appropriate dtype instead.\n",
      "  pd.Int64Index,\n"
     ]
    }
   ],
   "source": [
    "data = {\n",
    "    'gage_id':target_gages['gage_id'],\n",
    "    'name':target_gages['name']}\n",
    "target_gages = gpd.GeoDataFrame(data= data,geometry= points)\n",
    "\n",
    "ids = [str(val) for val in bas_all['GAGE_ID']]\n",
    "target_basins = gpd.GeoDataFrame()\n",
    "for i in range(len(target_gages)):\n",
    "    g = str(target_gages['gage_id'][i])\n",
    "    data = bas_all.loc[(bas_all['GAGE_ID']==g)]\n",
    "    if len(data)==0: \n",
    "        print('no watershed '+ g )\n",
    "    else: \n",
    "        print('yes watershed ' + g)\n",
    "        target_basins = pd.concat([target_basins, data])\n",
    "\n",
    "with open(datadir + 'target_basins.pickle', 'wb') as handle:\n",
    "    pickle.dump(target_basins, handle, protocol=pickle.HIGHEST_PROTOCOL)\n",
    "    \n",
    "target_basins_gdf = gpd.GeoDataFrame(data = target_basins[['AREA','PERIMETER','GAGE_ID']],geometry = target_basins['geometry'])\n",
    "target_basins_gdf.to_file(datadir + 'target_basins.gdf')\n",
    "\n",
    "target_basins = target_basins_gdf\n",
    "\n",
    "## 11185500 no basin found? this is on the upper kern"
   ]
  },
  {
   "cell_type": "code",
   "execution_count": 6,
   "metadata": {},
   "outputs": [
    {
     "data": {
      "image/png": "[encoded data removed]",
      "text/plain": [
       "<Figure size 432x288 with 1 Axes>"
      ]
     },
     "metadata": {
      "needs_background": "light"
     },
     "output_type": "display_data"
    }
   ],
   "source": [
    "fig,ax = plt.subplots()\n",
    "target_gages.plot(ax=ax)\n",
    "target_basins.boundary.plot(ax=ax,color='k')\n",
    "plt.show()\n",
    "## add in the contextily background some other time, package isn't going well rn"
   ]
  },
  {
   "cell_type": "code",
   "execution_count": 5,
   "metadata": {},
   "outputs": [],
   "source": [
    "## function that gets the streamflow data from a given site\n",
    "def get_details (site, start_date, end_date):\n",
    "    url = 'https://nwis.waterservices.usgs.gov/nwis/iv/?site={site}&startDT={start}&endDT={end}&parameterCD=00060&format=json'.format(site=site, start=start_date, end=end_date)\n",
    "    req = requests.get(url)\n",
    "\n",
    "    if req.status_code != 200 :\n",
    "        print('request has returned with status {}'.format(req.status_code))\n",
    "        return\n",
    "\n",
    "    resp_data = json.loads(req.text)\n",
    "    # I need the data itself, the bad value, unit, variable description and name\n",
    "    # discard unneeded data\n",
    "    resp_data = resp_data['value']['timeSeries'][0]\n",
    "\n",
    "    # begin building what I'll return\n",
    "    good_data = {}\n",
    "    # I will use this to keep track of any problems that I don't want to stop on\n",
    "    good_data['problems'] = []\n",
    "\n",
    "    # get site number (I want to be sure they match)\n",
    "    site_num = resp_data['sourceInfo']['siteCode'][0]['value']\n",
    "    good_data['site_num'] = site_num\n",
    "    if site_num != site :\n",
    "        good_data['problems'].append('Site number in response {} does not match given {}'.format(site_num, site))\n",
    "\n",
    "    # get site name\n",
    "    good_data['siteName'] = resp_data['sourceInfo']['siteName']\n",
    "\n",
    "    # get huc code\n",
    "    huc_code = next(i for i in resp_data['sourceInfo']['siteProperty'] if i['name'] == 'hucCd')\n",
    "    good_data['huc_code'] = huc_code['value']\n",
    "\n",
    "    # get no-data value\n",
    "    no_value = resp_data['variable']['noDataValue']\n",
    "\n",
    "    # get variable description\n",
    "    var_description = resp_data['variable']['variableDescription']\n",
    "    good_data['var_description'] = var_description\n",
    "\n",
    "    # get datapoints\n",
    "    good_data['series'] = []\n",
    "    good_data['value'] = []\n",
    "    good_data['datetime'] = []\n",
    "    for item in resp_data['values'][0]['value'] :\n",
    "        if item['value'] == no_value:\n",
    "            item['value'] = None\n",
    "        del item['qualifiers']\n",
    "        good_data['series'].append(item)\n",
    "        good_data['value'].append(item['value'])\n",
    "        good_data['datetime'].append(item['dateTime'])\n",
    "        \n",
    "    df = pd.DataFrame(data = good_data['value'],index = good_data['datetime'],columns=['streamflow'])\n",
    "    return good_data, df"
   ]
  },
  {
   "cell_type": "code",
   "execution_count": 8,
   "metadata": {},
   "outputs": [
    {
     "ename": "NameError",
     "evalue": "name 'df' is not defined",
     "output_type": "error",
     "traceback": [
      "\u001b[0;31m---------------------------------------------------------------------------\u001b[0m",
      "\u001b[0;31mNameError\u001b[0m                                 Traceback (most recent call last)",
      "\u001b[0;32m/tmp/ipykernel_30462/2348258682.py\u001b[0m in \u001b[0;36m<module>\u001b[0;34m\u001b[0m\n\u001b[1;32m      7\u001b[0m \u001b[0;34m\u001b[0m\u001b[0m\n\u001b[1;32m      8\u001b[0m \u001b[0;32mfrom\u001b[0m \u001b[0mdateutil\u001b[0m \u001b[0;32mimport\u001b[0m \u001b[0mparser\u001b[0m\u001b[0;34m\u001b[0m\u001b[0;34m\u001b[0m\u001b[0m\n\u001b[0;32m----> 9\u001b[0;31m \u001b[0mdt\u001b[0m \u001b[0;34m=\u001b[0m \u001b[0;34m[\u001b[0m\u001b[0mparser\u001b[0m\u001b[0;34m.\u001b[0m\u001b[0mparse\u001b[0m\u001b[0;34m(\u001b[0m\u001b[0mi\u001b[0m\u001b[0;34m)\u001b[0m \u001b[0;32mfor\u001b[0m \u001b[0mi\u001b[0m \u001b[0;32min\u001b[0m \u001b[0mdf\u001b[0m\u001b[0;34m.\u001b[0m\u001b[0mindex\u001b[0m\u001b[0;34m]\u001b[0m\u001b[0;34m\u001b[0m\u001b[0;34m\u001b[0m\u001b[0m\n\u001b[0m\u001b[1;32m     10\u001b[0m \u001b[0mdf\u001b[0m\u001b[0;34m[\u001b[0m\u001b[0;34m'dt'\u001b[0m\u001b[0;34m]\u001b[0m \u001b[0;34m=\u001b[0m \u001b[0mdt\u001b[0m\u001b[0;34m\u001b[0m\u001b[0;34m\u001b[0m\u001b[0m\n",
      "\u001b[0;31mNameError\u001b[0m: name 'df' is not defined"
     ]
    }
   ],
   "source": [
    "## get streamflow data\n",
    "start_date = '1900-01-01'\n",
    "end_date = '2022-04-25'\n",
    "test = target_basins.loc[6626]\n",
    "site = test.GAGE_ID\n",
    "data = get_details (site,start_date,end_date)\n",
    "\n",
    "from dateutil import parser\n",
    "dt = [parser.parse(i) for i in df.index]\n",
    "df['dt'] = dt"
   ]
  },
  {
   "cell_type": "code",
   "execution_count": null,
   "metadata": {},
   "outputs": [],
   "source": [
    "fig,ax = plt.subplots(figsize=(20,10))\n",
    "ax.plot(df.dt, df['streamflow'].values.astype('float'),'-',label = 'test')\n",
    "ax.set_ylabel('streamflow [cfs]')\n",
    "plt.show()\n"
   ]
  },
  {
   "cell_type": "code",
   "execution_count": 22,
   "metadata": {},
   "outputs": [
    {
     "ename": "IndexError",
     "evalue": "list index out of range",
     "output_type": "error",
     "traceback": [
      "\u001b[0;31m---------------------------------------------------------------------------\u001b[0m",
      "\u001b[0;31mIndexError\u001b[0m                                Traceback (most recent call last)",
      "\u001b[1;32m/home/marianne/Documents/snow_fires/scripts/SNSR_by_watershed.ipynb Cell 11'\u001b[0m in \u001b[0;36m<cell line: 7>\u001b[0;34m()\u001b[0m\n\u001b[1;32m      <a href='vscode-notebook-cell:/home/marianne/Documents/snow_fires/scripts/SNSR_by_watershed.ipynb#ch0000012?line=7'>8</a>\u001b[0m idx \u001b[39m=\u001b[39m target_basins\u001b[39m.\u001b[39mindex[i]\n\u001b[1;32m      <a href='vscode-notebook-cell:/home/marianne/Documents/snow_fires/scripts/SNSR_by_watershed.ipynb#ch0000012?line=8'>9</a>\u001b[0m site \u001b[39m=\u001b[39m target_basins[\u001b[39m'\u001b[39m\u001b[39mGAGE_ID\u001b[39m\u001b[39m'\u001b[39m][idx]\n\u001b[0;32m---> <a href='vscode-notebook-cell:/home/marianne/Documents/snow_fires/scripts/SNSR_by_watershed.ipynb#ch0000012?line=9'>10</a>\u001b[0m df, newdata \u001b[39m=\u001b[39m get_details(site \u001b[39m=\u001b[39;49m site, start_date \u001b[39m=\u001b[39;49m start_date,end_date\u001b[39m=\u001b[39;49mend_date)\n\u001b[1;32m     <a href='vscode-notebook-cell:/home/marianne/Documents/snow_fires/scripts/SNSR_by_watershed.ipynb#ch0000012?line=10'>11</a>\u001b[0m data[idx] \u001b[39m=\u001b[39m df\u001b[39m.\u001b[39mvalues()\n",
      "\u001b[1;32m/home/marianne/Documents/snow_fires/scripts/SNSR_by_watershed.ipynb Cell 8'\u001b[0m in \u001b[0;36mget_details\u001b[0;34m(site, start_date, end_date)\u001b[0m\n\u001b[1;32m     <a href='vscode-notebook-cell:/home/marianne/Documents/snow_fires/scripts/SNSR_by_watershed.ipynb#ch0000008?line=9'>10</a>\u001b[0m resp_data \u001b[39m=\u001b[39m json\u001b[39m.\u001b[39mloads(req\u001b[39m.\u001b[39mtext)\n\u001b[1;32m     <a href='vscode-notebook-cell:/home/marianne/Documents/snow_fires/scripts/SNSR_by_watershed.ipynb#ch0000008?line=10'>11</a>\u001b[0m \u001b[39m# I need the data itself, the bad value, unit, variable description and name\u001b[39;00m\n\u001b[1;32m     <a href='vscode-notebook-cell:/home/marianne/Documents/snow_fires/scripts/SNSR_by_watershed.ipynb#ch0000008?line=11'>12</a>\u001b[0m \u001b[39m# discard unneeded data\u001b[39;00m\n\u001b[0;32m---> <a href='vscode-notebook-cell:/home/marianne/Documents/snow_fires/scripts/SNSR_by_watershed.ipynb#ch0000008?line=12'>13</a>\u001b[0m resp_data \u001b[39m=\u001b[39m resp_data[\u001b[39m'\u001b[39;49m\u001b[39mvalue\u001b[39;49m\u001b[39m'\u001b[39;49m][\u001b[39m'\u001b[39;49m\u001b[39mtimeSeries\u001b[39;49m\u001b[39m'\u001b[39;49m][\u001b[39m0\u001b[39;49m]\n\u001b[1;32m     <a href='vscode-notebook-cell:/home/marianne/Documents/snow_fires/scripts/SNSR_by_watershed.ipynb#ch0000008?line=14'>15</a>\u001b[0m \u001b[39m# begin building what I'll return\u001b[39;00m\n\u001b[1;32m     <a href='vscode-notebook-cell:/home/marianne/Documents/snow_fires/scripts/SNSR_by_watershed.ipynb#ch0000008?line=15'>16</a>\u001b[0m good_data \u001b[39m=\u001b[39m {}\n",
      "\u001b[0;31mIndexError\u001b[0m: list index out of range"
     ]
    }
   ],
   "source": [
    "## get streamflow data\n",
    "start_date = '1900-01-01'\n",
    "end_date = '2022-04-25'\n",
    "test = target_basins.loc[6626]\n",
    "\n",
    "data = pd.DataFrame(columns = target_basins.index)\n",
    "for i in range(len(target_basins)):\n",
    "    idx = target_basins.index[i]\n",
    "    site = target_basins['GAGE_ID'][idx]\n",
    "    df, newdata = get_details(site = site, start_date = start_date,end_date=end_date)\n",
    "    data[idx] = df.values()"
   ]
  },
  {
   "cell_type": "code",
   "execution_count": 21,
   "metadata": {},
   "outputs": [
    {
     "data": {
      "text/html": [
       "<div>\n",
       "<style scoped>\n",
       "    .dataframe tbody tr th:only-of-type {\n",
       "        vertical-align: middle;\n",
       "    }\n",
       "\n",
       "    .dataframe tbody tr th {\n",
       "        vertical-align: top;\n",
       "    }\n",
       "\n",
       "    .dataframe thead th {\n",
       "        text-align: right;\n",
       "    }\n",
       "</style>\n",
       "<table border=\"1\" class=\"dataframe\">\n",
       "  <thead>\n",
       "    <tr style=\"text-align: right;\">\n",
       "      <th></th>\n",
       "      <th>streamflow</th>\n",
       "    </tr>\n",
       "  </thead>\n",
       "  <tbody>\n",
       "    <tr>\n",
       "      <th>1987-10-01T00:15:00.000-07:00</th>\n",
       "      <td>19.0</td>\n",
       "    </tr>\n",
       "    <tr>\n",
       "      <th>1987-10-01T00:30:00.000-07:00</th>\n",
       "      <td>19.0</td>\n",
       "    </tr>\n",
       "    <tr>\n",
       "      <th>1987-10-01T00:45:00.000-07:00</th>\n",
       "      <td>19.0</td>\n",
       "    </tr>\n",
       "    <tr>\n",
       "      <th>1987-10-01T01:00:00.000-07:00</th>\n",
       "      <td>19.0</td>\n",
       "    </tr>\n",
       "    <tr>\n",
       "      <th>1987-10-01T01:15:00.000-07:00</th>\n",
       "      <td>20.0</td>\n",
       "    </tr>\n",
       "    <tr>\n",
       "      <th>...</th>\n",
       "      <td>...</td>\n",
       "    </tr>\n",
       "    <tr>\n",
       "      <th>2022-04-25T22:45:00.000-07:00</th>\n",
       "      <td>409</td>\n",
       "    </tr>\n",
       "    <tr>\n",
       "      <th>2022-04-25T23:00:00.000-07:00</th>\n",
       "      <td>409</td>\n",
       "    </tr>\n",
       "    <tr>\n",
       "      <th>2022-04-25T23:15:00.000-07:00</th>\n",
       "      <td>400</td>\n",
       "    </tr>\n",
       "    <tr>\n",
       "      <th>2022-04-25T23:30:00.000-07:00</th>\n",
       "      <td>404</td>\n",
       "    </tr>\n",
       "    <tr>\n",
       "      <th>2022-04-25T23:45:00.000-07:00</th>\n",
       "      <td>409</td>\n",
       "    </tr>\n",
       "  </tbody>\n",
       "</table>\n",
       "<p>1200365 rows × 1 columns</p>\n",
       "</div>"
      ],
      "text/plain": [
       "                              streamflow\n",
       "1987-10-01T00:15:00.000-07:00       19.0\n",
       "1987-10-01T00:30:00.000-07:00       19.0\n",
       "1987-10-01T00:45:00.000-07:00       19.0\n",
       "1987-10-01T01:00:00.000-07:00       19.0\n",
       "1987-10-01T01:15:00.000-07:00       20.0\n",
       "...                                  ...\n",
       "2022-04-25T22:45:00.000-07:00        409\n",
       "2022-04-25T23:00:00.000-07:00        409\n",
       "2022-04-25T23:15:00.000-07:00        400\n",
       "2022-04-25T23:30:00.000-07:00        404\n",
       "2022-04-25T23:45:00.000-07:00        409\n",
       "\n",
       "[1200365 rows x 1 columns]"
      ]
     },
     "execution_count": 21,
     "metadata": {},
     "output_type": "execute_result"
    }
   ],
   "source": [
    "newdata"
   ]
  }
 ],
 "metadata": {
  "interpreter": {
   "hash": "6780c48768e55a5d65d3b77a4ec571a6022889642d79e9abe30e98f5fbd9cad9"
  },
  "kernelspec": {
   "display_name": "snow",
   "language": "python",
   "name": "python3"
  },
  "language_info": {
   "codemirror_mode": {
    "name": "ipython",
    "version": 3
   },
   "file_extension": ".py",
   "mimetype": "text/x-python",
   "name": "python",
   "nbconvert_exporter": "python",
   "pygments_lexer": "ipython3",
   "version": "3.10.4"
  }
 },
 "nbformat": 4,
 "nbformat_minor": 2
}
