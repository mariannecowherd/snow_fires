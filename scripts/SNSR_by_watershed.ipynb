{
 "cells": [
  {
   "cell_type": "code",
   "execution_count": 1,
   "metadata": {},
   "outputs": [],
   "source": [
    "import json\n",
    "# import requests\n",
    "import numpy as np\n",
    "import matplotlib.pyplot as plt\n",
    "import datetime as dt\n",
    "import pandas as pd\n",
    "import pickle\n",
    "from constants import *\n",
    "import rioxarray as rxr\n",
    "from pyproj import crs\n",
    "\n",
    "homedir = '/global/home/users/cowherd/snow_fires/'\n",
    "datadir = '/global/scratch/users/cowherd/'\n",
    "\n",
    "os.chdir(homedir)\n",
    "\n",
    "wgs_crs = crs.CRS('epsg:4326')\n",
    "use_crs = wgs_crs\n",
    "\n",
    "from load_data import *\n",
    "## gives fires_allyears, wfigs20, gages_metadata, bas_all, gaged_basins_gdf, snowzone\n",
    "## all in wgs crs\n"
   ]
  },
  {
   "cell_type": "code",
   "execution_count": 105,
   "metadata": {},
   "outputs": [],
   "source": [
    "bas_all = bas_all.set_crs(bas_ref.crs)\n",
    "bas_all = bas_all.to_crs(wgs_crs) # with wgs 84 CRS\n"
   ]
  },
  {
   "cell_type": "code",
   "execution_count": 106,
   "metadata": {},
   "outputs": [
    {
     "data": {
      "text/plain": [
       "9322"
      ]
     },
     "execution_count": 106,
     "metadata": {},
     "output_type": "execute_result"
    }
   ],
   "source": [
    "len(bas_all)"
   ]
  },
  {
   "cell_type": "code",
   "execution_count": null,
   "metadata": {},
   "outputs": [
    {
     "name": "stderr",
     "output_type": "stream",
     "text": [
      "/global/home/users/cowherd/.conda/envs/snow/lib/python3.9/site-packages/geopandas/io/file.py:362: FutureWarning: pandas.Int64Index is deprecated and will be removed from pandas in a future version. Use pandas.Index with the appropriate dtype instead.\n",
      "  pd.Int64Index,\n"
     ]
    }
   ],
   "source": [
    "# save to files\n",
    "bas_all.to_file(datadir + 'bas_all.gdf')"
   ]
  },
  {
   "cell_type": "code",
   "execution_count": null,
   "metadata": {},
   "outputs": [],
   "source": [
    "bas_all.plot()"
   ]
  },
  {
   "cell_type": "code",
   "execution_count": 96,
   "metadata": {},
   "outputs": [
    {
     "ename": "NameError",
     "evalue": "name 'bas_ref_all' is not defined",
     "output_type": "error",
     "traceback": [
      "\u001b[0;31m---------------------------------------------------------------------------\u001b[0m",
      "\u001b[0;31mNameError\u001b[0m                                 Traceback (most recent call last)",
      "\u001b[0;32m/tmp/ipykernel_15975/3514301406.py\u001b[0m in \u001b[0;36m<module>\u001b[0;34m\u001b[0m\n\u001b[1;32m     10\u001b[0m \u001b[0mbas_all\u001b[0m \u001b[0;34m=\u001b[0m \u001b[0mpd\u001b[0m\u001b[0;34m.\u001b[0m\u001b[0mconcat\u001b[0m\u001b[0;34m(\u001b[0m\u001b[0;34m[\u001b[0m\u001b[0mbas_nonref\u001b[0m\u001b[0;34m,\u001b[0m\u001b[0mbas_ref\u001b[0m\u001b[0;34m]\u001b[0m\u001b[0;34m)\u001b[0m\u001b[0;34m\u001b[0m\u001b[0;34m\u001b[0m\u001b[0m\n\u001b[1;32m     11\u001b[0m \u001b[0;31m# bas_all = bas_nonref.append(bas_ref)\u001b[0m\u001b[0;34m\u001b[0m\u001b[0;34m\u001b[0m\u001b[0m\n\u001b[0;32m---> 12\u001b[0;31m \u001b[0mbas_all\u001b[0m \u001b[0;34m=\u001b[0m \u001b[0mbas_all\u001b[0m\u001b[0;34m.\u001b[0m\u001b[0mset_crs\u001b[0m\u001b[0;34m(\u001b[0m\u001b[0mbas_ref_all\u001b[0m\u001b[0;34m.\u001b[0m\u001b[0mcrs\u001b[0m\u001b[0;34m)\u001b[0m\u001b[0;34m\u001b[0m\u001b[0;34m\u001b[0m\u001b[0m\n\u001b[0m\u001b[1;32m     13\u001b[0m \u001b[0mbas_all\u001b[0m \u001b[0;34m=\u001b[0m \u001b[0mbas_ref_all\u001b[0m\u001b[0;34m.\u001b[0m\u001b[0mto_crs\u001b[0m\u001b[0;34m(\u001b[0m\u001b[0mwgs_crs\u001b[0m\u001b[0;34m)\u001b[0m \u001b[0;31m# with wgs 84 CRS\u001b[0m\u001b[0;34m\u001b[0m\u001b[0;34m\u001b[0m\u001b[0m\n\u001b[1;32m     14\u001b[0m \u001b[0;34m\u001b[0m\u001b[0m\n",
      "\u001b[0;31mNameError\u001b[0m: name 'bas_ref_all' is not defined"
     ]
    }
   ],
   "source": [
    "#usgs reference basin boundaries\n",
    "bas_ref = gpd.read_file('/global/scratch/users/cowherd/boundaries-shapefiles-by-aggeco/bas_ref_all.shp')\n",
    "#usgs non-reference basin boundaries (entire US, multiple files by region)\n",
    "bas_nonref_names = glob.glob(datadir + 'boundaries-shapefiles-by-aggeco/' + '*nonref*.shp')\n",
    "bas_nonref=gpd.GeoDataFrame()\n",
    "for f in bas_nonref_names:\n",
    "    data = gpd.read_file(f)\n",
    "    bas_nonref = pd.concat([bas_nonref,data])\n",
    "    print(len(bas_nonref))\n",
    "    # bas_nonref = bas_nonref.append(data)\n",
    "bas_all = pd.concat([bas_nonref,bas_ref])\n",
    "# bas_all = bas_nonref.append(bas_ref)\n",
    "bas_all = bas_all.set_crs(bas_ref_all.crs)\n",
    "bas_all = bas_ref_all.to_crs(wgs_crs) # with wgs 84 CRS\n",
    "\n",
    "gages_metadata = gpd.GeoDataFrame()\n",
    "gages_metadata['geometry'] = [Point(xy) for xy in zip(md.Longitude, md.Latitude)] \n",
    "gages_metadata['gage_id'] = [val for val in md.Gauge_ID]\n",
    "gages_metadata['fire_year'] = [val for val in md.Fire_Year]\n",
    "gages_metadata = gages_metadata.set_crs(wgs_crs)\n",
    "\n",
    "# save to files\n",
    "bas_all.to_file(datadir + 'bas_all.gdf')"
   ]
  },
  {
   "cell_type": "code",
   "execution_count": 3,
   "metadata": {},
   "outputs": [],
   "source": [
    "names = ['East Branch N. Fork Feather',\n",
    "         'Upper Mokelumne',\n",
    "         'Upper Merced',\n",
    "         'Upper Kaweah',\n",
    "         'Upper Tule',\n",
    "         'Upper Kern',\n",
    "         'South Fork Kern'\n",
    "        ]\n",
    "gage_ids = [11402000,\n",
    "            11318500,\n",
    "            11266500,\n",
    "            11208000,\n",
    "            11202710,\n",
    "            11185500,\n",
    "            11189500\n",
    "           ]\n",
    "target_gages = pd.DataFrame({\n",
    "    'name':names,\n",
    "    'gage_id':gage_ids\n",
    "})"
   ]
  },
  {
   "cell_type": "code",
   "execution_count": 18,
   "metadata": {},
   "outputs": [],
   "source": [
    "allgages = gpd.read_file(datadir + 'gagesii/gagesII_9322_sept30_2011.shp')\n",
    "## are all of them already in my metadata file from before?\n",
    "pts = []\n",
    "for i in range(len(target_gages)):\n",
    "    g = target_gages['gage_id'][i]\n",
    "    tmp = allgages[allgages['STAID']==str(g)]\n",
    "    if len(tmp)==0:\n",
    "        print('no ' + str(g))\n",
    "        pts.append(np.nan)\n",
    "    else:\n",
    "        pts.append(tmp['geometry'].to_crs('epsg:4326'))\n",
    "\n",
    "## did some copypasting to get beloew "
   ]
  },
  {
   "cell_type": "code",
   "execution_count": 72,
   "metadata": {},
   "outputs": [],
   "source": [
    "lats=[-120.95440,\n",
    "-120.54548,\n",
    "-119.66628,\n",
    "-118.79927,\n",
    "-118.70954,\n",
    "-118.467586, \n",
    "-118.17369]\n",
    "lons=[40.00295,\n",
    "38.36825,\n",
    "37.71687,\n",
    "36.52189,\n",
    "36.16134,\n",
    "35.90550439,\n",
    "35.73745]\n",
    "\n",
    "points = [Point(xy) for xy in zip(lons,lats)]"
   ]
  },
  {
   "cell_type": "code",
   "execution_count": 78,
   "metadata": {},
   "outputs": [],
   "source": [
    "data = {\n",
    "    'gage_id':target_gages['gage_id'],\n",
    "    'name':target_gages['name']}\n",
    "target_gages = gpd.GeoDataFrame(data= data,geometry= points)"
   ]
  },
  {
   "cell_type": "code",
   "execution_count": 81,
   "metadata": {},
   "outputs": [
    {
     "data": {
      "image/png": "[encoded data removed]",
      "text/plain": [
       "<Figure size 432x288 with 1 Axes>"
      ]
     },
     "metadata": {
      "needs_background": "light"
     },
     "output_type": "display_data"
    }
   ],
   "source": [
    "target_gages.plot()\n",
    "plt.show()\n",
    "## add in the contextily background some other time, package isn't going well rn"
   ]
  },
  {
   "cell_type": "code",
   "execution_count": 82,
   "metadata": {},
   "outputs": [],
   "source": [
    "## function that gets the streamflow data from a given site\n",
    "def get_details (site, start_date, end_date):\n",
    "    url = 'https://nwis.waterservices.usgs.gov/nwis/iv/?site={site}&startDT={start}&endDT={end}&parameterCD=00060&format=json'.format(site=site, start=start_date, end=end_date)\n",
    "    req = requests.get(url)\n",
    "\n",
    "    if req.status_code != 200 :\n",
    "        print('request has returned with status {}'.format(req.status_code))\n",
    "        return\n",
    "\n",
    "    resp_data = json.loads(req.text)\n",
    "    # I need the data itself, the bad value, unit, variable description and name\n",
    "    # discard unneeded data\n",
    "    resp_data = resp_data['value']['timeSeries'][0]\n",
    "\n",
    "    # begin building what I'll return\n",
    "    good_data = {}\n",
    "    # I will use this to keep track of any problems that I don't want to stop on\n",
    "    good_data['problems'] = []\n",
    "\n",
    "    # get site number (I want to be sure they match)\n",
    "    site_num = resp_data['sourceInfo']['siteCode'][0]['value']\n",
    "    good_data['site_num'] = site_num\n",
    "    if site_num != site :\n",
    "        good_data['problems'].append('Site number in response {} does not match given {}'.format(site_num, site))\n",
    "\n",
    "    # get site name\n",
    "    good_data['siteName'] = resp_data['sourceInfo']['siteName']\n",
    "\n",
    "    # get huc code\n",
    "    huc_code = next(i for i in resp_data['sourceInfo']['siteProperty'] if i['name'] == 'hucCd')\n",
    "    good_data['huc_code'] = huc_code['value']\n",
    "\n",
    "    # get no-data value\n",
    "    no_value = resp_data['variable']['noDataValue']\n",
    "\n",
    "    # get variable description\n",
    "    var_description = resp_data['variable']['variableDescription']\n",
    "    good_data['var_description'] = var_description\n",
    "\n",
    "    # get datapoints\n",
    "    good_data['series'] = []\n",
    "    good_data['value'] = []\n",
    "    good_data['datetime'] = []\n",
    "    for item in resp_data['values'][0]['value'] :\n",
    "        if item['value'] == no_value:\n",
    "            item['value'] = None\n",
    "        del item['qualifiers']\n",
    "        good_data['series'].append(item)\n",
    "        good_data['value'].append(item['value'])\n",
    "        good_data['datetime'].append(item['dateTime'])    \n",
    "    return good_data"
   ]
  },
  {
   "cell_type": "code",
   "execution_count": null,
   "metadata": {},
   "outputs": [],
   "source": [
    "ids = [str(val) for val in bas_all['GAGE_ID']]\n",
    "gaged_basins = gpd.GeoDataFrame()\n",
    "for i in range(len(target_gages)):\n",
    "    g = str(target_gages['gage_id'][i])\n",
    "    data = bas_all.loc[(bas_all['GAGE_ID']==g)]\n",
    "    if len(data)==0: \n",
    "        print('no watershed '+ g )\n",
    "    else: print('yes watershed ' + g)\n",
    "    gaged_basins = pd.concat([gaged_basins, data])\n",
    "\n",
    "with open(datadir + 'target_basins.pickle', 'wb') as handle:\n",
    "    pickle.dump(gaged_basins, handle, protocol=pickle.HIGHEST_PROTOCOL)\n",
    "    \n",
    "gaged_basins_gdf = gpd.GeoDataFrame(data = gaged_basins[['AREA','PERIMETER','GAGE_ID']],geometry = gaged_basins['geometry'])\n",
    "gaged_basins_gdf.to_file(datadir + 'target_basins.gdf')"
   ]
  },
  {
   "cell_type": "code",
   "execution_count": 95,
   "metadata": {},
   "outputs": [
    {
     "data": {
      "text/plain": [
       "<AxesSubplot:>"
      ]
     },
     "execution_count": 95,
     "metadata": {},
     "output_type": "execute_result"
    },
    {
     "data": {
      "image/png": "[encoded data removed]",
      "text/plain": [
       "<Figure size 432x288 with 1 Axes>"
      ]
     },
     "metadata": {
      "needs_background": "light"
     },
     "output_type": "display_data"
    }
   ],
   "source": [
    "## get streamflow data\n",
    "data = []\n",
    "for i in range(len(target_basins)):\n",
    "    site = target_basins['gage_id'][i]\n",
    "    newdata = get_details(site = site, start_date = start_date,end_date=end_date)\n",
    "    data = pd.concat(data,newdata)"
   ]
  },
  {
   "cell_type": "code",
   "execution_count": null,
   "metadata": {},
   "outputs": [],
   "source": [
    "fp = '/global/scratch/users/cowherd/reanalysis/h5/'\n",
    "\n",
    "#daily_swe = {}\n",
    "#daily_swe_total = {}\n",
    "#max_day = []\n",
    "#max_swe = []\n",
    "daily_swe_mean = {}\n",
    "for yr in  [1986]: # range(1985 , 2016):\n",
    "    hf = h5py.File(fp + 'SN_SWE_WY'+ str(yr) + '.h5', 'r')\n",
    "    swe = hf.get('SWE')\n",
    "    dailyswe = []\n",
    "    numpixels = []\n",
    "    for i in [180]: #range(365):\n",
    "        swe_tmp = np.array(swe[i,:,:])\n",
    "        swe_tmp=swe_tmp[swe_tmp>0]\n",
    "        dailyswe.append(np.nanmean(swe_tmp))\n",
    "        numpixels.append(len(swe_tmp))\n",
    "    dailyswe=np.array(dailyswe)\n",
    "    numpixels = np.array(numpixels)\n",
    "    #maxswe = np.nanmax(dailyswe[numpixels>1e6])\n",
    "    #maxday = np.where(dailyswe == maxswe)[0][0]\n",
    "    daily_swe_mean[yr] = dailyswe\n",
    "    #max_day.append(maxday)\n",
    "    #max_swe.append(maxswe)"
   ]
  }
 ],
 "metadata": {
  "kernelspec": {
   "display_name": "snow",
   "language": "python",
   "name": "snow"
  },
  "language_info": {
   "codemirror_mode": {
    "name": "ipython",
    "version": 3
   },
   "file_extension": ".py",
   "mimetype": "text/x-python",
   "name": "python",
   "nbconvert_exporter": "python",
   "pygments_lexer": "ipython3",
   "version": "3.9.7"
  }
 },
 "nbformat": 4,
 "nbformat_minor": 2
}
