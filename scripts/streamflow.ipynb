{
 "cells": [
  {
   "cell_type": "code",
   "execution_count": 2,
   "metadata": {},
   "outputs": [
    {
     "data": {
      "text/plain": [
       "123123.0"
      ]
     },
     "execution_count": 2,
     "metadata": {},
     "output_type": "execute_result"
    }
   ],
   "source": [
    "import json\n",
    "import requests\n",
    "import numpy as np\n",
    "import matplotlib.pyplot as plt\n",
    "import datetime as dt\n",
    "import pandas as pd\n",
    "import pickle\n",
    "from constants import *\n",
    "from locale import atof, setlocale, LC_NUMERIC\n",
    "plt.style.use(home_dir+'stylefile.mplstyle')\n",
    "setlocale(LC_NUMERIC,'')\n",
    "atof('123,123')\n"
   ]
  },
  {
   "cell_type": "code",
   "execution_count": null,
   "metadata": {},
   "outputs": [],
   "source": [
    "meta = pd.read_csv(pe_data_dir + 'metadata.csv')\n",
    "meta1 = meta[['Gauge_ID','Latitude','Longitude','Fire_Year']]\n",
    "meta2 = meta[['Gauge_ID.1','Latitude.1','Longitude.1','Fire_Year.1']]\n",
    "meta2.columns = meta1.columns \n",
    "md = meta1.append(meta2)\n",
    "md.index = range(0,len(md))\n",
    "md = md[0:179]\n",
    "tmp = []\n",
    "for i in md['Gauge_ID']:\n",
    "    id = str((int(i)))\n",
    "    if len(id)<8:\n",
    "        fullid = '0' + id\n",
    "    else:\n",
    "        fullid = id\n",
    "    tmp.append(fullid)\n",
    "md['Gauge_ID'] = tmp\n",
    "with open(pe_data_dir + 'streamflow_metadata.pickle', 'wb') as handle:\n",
    "    pickle.dump(md, handle, protocol=pickle.HIGHEST_PROTOCOL)\n",
    "\n",
    "with open(pe_data_dir + 'streamflow_metadata.pickle', 'rb') as handle:\n",
    "    md = pickle.load(handle)\n"
   ]
  },
  {
   "cell_type": "code",
   "execution_count": 3,
   "metadata": {},
   "outputs": [],
   "source": [
    "with open(pe_data_dir + 'streamflow_metadata.pickle', 'rb') as handle:\n",
    "    md = pickle.load(handle)\n"
   ]
  },
  {
   "cell_type": "code",
   "execution_count": 4,
   "metadata": {},
   "outputs": [],
   "source": [
    "def get_details (site, start_date, end_date):\n",
    "    url = 'https://nwis.waterservices.usgs.gov/nwis/iv/?site={site}&startDT={start}&endDT={end}&parameterCD=00060&format=json'.format(site=site, start=start_date, end=end_date)\n",
    "\n",
    "    req = requests.get(url)\n",
    "\n",
    "    if req.status_code != 200 :\n",
    "        print('request has returned with status {}'.format(req.status_code))\n",
    "        return\n",
    "\n",
    "    resp_data = json.loads(req.text)\n",
    "    # I need the data itself, the bad value, unit, variable description and name\n",
    "    # discard unneeded data\n",
    "    resp_data = resp_data['value']['timeSeries'][0]\n",
    "\n",
    "    # begin building what I'll return\n",
    "    good_data = {}\n",
    "    # I will use this to keep track of any problems that I don't want to stop on\n",
    "    good_data['problems'] = []\n",
    "\n",
    "    # get site number (I want to be sure they match)\n",
    "    site_num = resp_data['sourceInfo']['siteCode'][0]['value']\n",
    "    good_data['site_num'] = site_num\n",
    "    if site_num != site :\n",
    "        good_data['problems'].append('Site number in response {} does not match given {}'.format(site_num, site))\n",
    "\n",
    "    # get site name\n",
    "    good_data['siteName'] = resp_data['sourceInfo']['siteName']\n",
    "\n",
    "    # get huc code\n",
    "    huc_code = next(i for i in resp_data['sourceInfo']['siteProperty'] if i['name'] == 'hucCd')\n",
    "    good_data['huc_code'] = huc_code['value']\n",
    "\n",
    "    # get no-data value\n",
    "    no_value = resp_data['variable']['noDataValue']\n",
    "\n",
    "    # get variable description\n",
    "    var_description = resp_data['variable']['variableDescription']\n",
    "    good_data['var_description'] = var_description\n",
    "\n",
    "    # get datapoints\n",
    "    good_data['series'] = []\n",
    "    good_data['value'] = []\n",
    "    good_data['datetime'] = []\n",
    "    for item in resp_data['values'][0]['value'] :\n",
    "        if item['value'] == no_value:\n",
    "            item['value'] = None\n",
    "        del item['qualifiers']\n",
    "        good_data['series'].append(item)\n",
    "        good_data['value'].append(item['value'])\n",
    "        good_data['datetime'].append(item['dateTime'])\n",
    "    \n",
    "\n",
    "\n",
    "    ## below this point is temperature\n",
    "    '''url = 'https://nwis.waterservices.usgs.gov/nwis/iv/?site={site}&startDT={start}&endDT={end}&parameterCD=00010&format=json'.format(site=site, start=start_date, end=end_date)\n",
    "\n",
    "    req = requests.get(url)\n",
    "\n",
    "    if req.status_code != 200 :\n",
    "        print('request has returned with status {}'.format(req.status_code))\n",
    "        return\n",
    "\n",
    "    resp_data = json.loads(req.text)\n",
    "    # I need the data itself, the bad value, unit, variable description and name\n",
    "    # discard unneeded data\n",
    "    resp_data = resp_data['value']['timeSeries'][0]\n",
    "\n",
    "    # begin building what I'll return\n",
    "    good_data_t = {}\n",
    "    # I will use this to keep track of any problems that I don't want to stop on\n",
    "    good_data_t['problems'] = []\n",
    "\n",
    "    # get site number (I want to be sure they match)\n",
    "    site_num = resp_data['sourceInfo']['siteCode'][0]['value']\n",
    "    good_data_t['site_num'] = site_num\n",
    "    if site_num != site :\n",
    "        good_data_t['problems'].append('Site number in response {} does not match given {}'.format(site_num, site))\n",
    "\n",
    "    # get site name\n",
    "    good_data_t['siteName'] = resp_data['sourceInfo']['siteName']\n",
    "\n",
    "    # get huc code\n",
    "    huc_code = next(i for i in resp_data['sourceInfo']['siteProperty'] if i['name'] == 'hucCd')\n",
    "    good_data_t['huc_code'] = huc_code['value']\n",
    "\n",
    "    # get no-data value\n",
    "    no_value = resp_data['variable']['noDataValue']\n",
    "\n",
    "    # get variable description\n",
    "    var_description = resp_data['variable']['variableDescription']\n",
    "    good_data_t['var_description'] = var_description\n",
    "\n",
    "    # get datapoints\n",
    "    good_data_t['series'] = []\n",
    "    good_data_t['value'] = []\n",
    "    good_data_t['datetime'] = []\n",
    "    for item in resp_data['values'][0]['value'] :\n",
    "        if item['value'] == no_value:\n",
    "            item['value'] = None\n",
    "        del item['qualifiers']\n",
    "        good_data_t['series'].append(item)\n",
    "        good_data_t['value'].append(item['value'])\n",
    "        good_data_t['datetime'].append(item['dateTime'])\n",
    "\n",
    "    df = pd.DataFrame(data = good_data['value'],index = good_data['datetime'],columns=['streamflow'])\n",
    "    df_t = pd.DataFrame(data = good_data_t['value'], index = good_data_t['datetime'],columns = ['temperature'])\n",
    "\n",
    "    df_dt = df.merge(df_t,left_index=True,right_index=True)'''\n",
    "    \n",
    "    return good_data# , df_dt"
   ]
  },
  {
   "cell_type": "code",
   "execution_count": 92,
   "metadata": {},
   "outputs": [
    {
     "ename": "IndexError",
     "evalue": "list index out of range",
     "output_type": "error",
     "traceback": [
      "\u001b[1;31m---------------------------------------------------------------------------\u001b[0m",
      "\u001b[1;31mIndexError\u001b[0m                                Traceback (most recent call last)",
      "\u001b[1;32m~\\AppData\\Local\\Temp/ipykernel_2400/1136547368.py\u001b[0m in \u001b[0;36m<module>\u001b[1;34m\u001b[0m\n\u001b[0;32m      6\u001b[0m \u001b[1;31m# I need the data itself, the bad value, unit, variable description and name\u001b[0m\u001b[1;33m\u001b[0m\u001b[1;33m\u001b[0m\u001b[0m\n\u001b[0;32m      7\u001b[0m \u001b[1;31m# discard unneeded data\u001b[0m\u001b[1;33m\u001b[0m\u001b[1;33m\u001b[0m\u001b[0m\n\u001b[1;32m----> 8\u001b[1;33m \u001b[0mresp_data\u001b[0m \u001b[1;33m=\u001b[0m \u001b[0mresp_data\u001b[0m\u001b[1;33m[\u001b[0m\u001b[1;34m'value'\u001b[0m\u001b[1;33m]\u001b[0m\u001b[1;33m[\u001b[0m\u001b[1;34m'timeSeries'\u001b[0m\u001b[1;33m]\u001b[0m\u001b[1;33m[\u001b[0m\u001b[1;36m0\u001b[0m\u001b[1;33m]\u001b[0m\u001b[1;33m\u001b[0m\u001b[1;33m\u001b[0m\u001b[0m\n\u001b[0m",
      "\u001b[1;31mIndexError\u001b[0m: list index out of range"
     ]
    }
   ],
   "source": [
    "url = 'https://nwis.waterservices.usgs.gov/nwis/iv/?site={site}&startDT={start}&endDT={end}&parameterCD=00060&format=json'.format(site=site, start=start_date, end=end_date)\n",
    "\n",
    "req = requests.get(url)\n",
    "\n",
    "resp_data = json.loads(req.text)\n",
    "# I need the data itself, the bad value, unit, variable description and name\n",
    "# discard unneeded data\n",
    "resp_data = resp_data['value']['timeSeries'][0]"
   ]
  },
  {
   "cell_type": "code",
   "execution_count": 9,
   "metadata": {},
   "outputs": [
    {
     "name": "stdout",
     "output_type": "stream",
     "text": [
      "no data 11230500\n",
      "no data 11315000\n",
      "no data 11316800\n",
      "no data 11367500\n",
      "no data 11427700\n",
      "no data 11478500\n"
     ]
    }
   ],
   "source": [
    "for i in range(79,len(md)):\n",
    "    site = md['Gauge_ID'][i]\n",
    "    fy = md['Fire_Year'][i]\n",
    "    start_date = '1900-01-01'\n",
    "    end_date = '2022-08-01'\n",
    "    \n",
    "    try:\n",
    "        data = get_details(site=site, start_date=start_date, end_date=end_date)\n",
    "        df = {'site': site,\n",
    "        'streamflow':data,\n",
    "        'fireyear': fy}\n",
    "    except:\n",
    "        print('no data ' + str(site))\n",
    "        df = {'site': site}\n",
    "\n",
    "\n",
    "    with open(pe_data_dir + 'streamflow'+ str(site)+'.pickle', 'wb') as handle:\n",
    "        pickle.dump(df, handle, protocol=pickle.HIGHEST_PROTOCOL)\n",
    "\n",
    "\n"
   ]
  },
  {
   "cell_type": "code",
   "execution_count": 85,
   "metadata": {},
   "outputs": [],
   "source": [
    "data = get_details(site=site, start_date=start_date, end_date=end_date)\n"
   ]
  },
  {
   "cell_type": "code",
   "execution_count": null,
   "metadata": {},
   "outputs": [],
   "source": [
    "with open(pe_data_dir + 'gaged_basins.pickle', 'rb') as handle:\n",
    "    alldata = pickle.load(handle)\n",
    "\n",
    "for i in range(97,len(md)):\n",
    "    site = md['Gauge_ID'][i]\n",
    "    fy = md['Fire_Year'][i]\n",
    "    start_date = '1900-01-01'\n",
    "    end_date = '2022-08-01'\n",
    "    data = get_details (site=site, start_date=start_date, end_date=end_date)\n",
    "    if(~np.isnan(fy)): # how to treat the areas that are burned\n",
    "        print('burned')\n",
    "    else:\n",
    "        print('unburned')\n",
    "    \n",
    "    df = {'site': site,\n",
    "        'streamflow':data,\n",
    "        'fireyear': fy}\n",
    "    \n",
    "    with open(pe_data_dir + 'streamflow'+ str(site)+'.pickle', 'wb') as handle:\n",
    "        pickle.dump(df, handle, protocol=pickle.HIGHEST_PROTOCOL)\n",
    "\n",
    "\n"
   ]
  },
  {
   "cell_type": "code",
   "execution_count": 47,
   "metadata": {},
   "outputs": [
    {
     "data": {
      "text/plain": [
       "16"
      ]
     },
     "execution_count": 47,
     "metadata": {},
     "output_type": "execute_result"
    }
   ],
   "source": [
    "i"
   ]
  },
  {
   "cell_type": "code",
   "execution_count": 187,
   "metadata": {},
   "outputs": [
    {
     "name": "stdout",
     "output_type": "stream",
     "text": [
      "03/13/2022\n",
      "2,669 \n",
      "1,346 \n",
      "03/14/2022\n",
      "2,825 \n",
      "1,424 \n",
      "03/15/2022\n",
      "2,176 \n",
      "1,097 \n",
      "03/16/2022\n",
      "1,659 \n",
      "836 \n",
      "03/17/2022\n",
      "2,738 \n",
      "1,380 \n",
      "03/18/2022\n",
      "3,002 \n",
      "1,514 \n",
      "03/19/2022\n",
      "4,032 \n",
      "2,033 \n",
      "03/20/2022\n",
      "2,777 \n",
      "1,400 \n",
      "03/21/2022\n",
      "2,290 \n",
      "1,154 \n",
      "03/22/2022\n",
      "2,048 \n",
      "1,032 \n",
      "03/23/2022\n",
      "3,412 \n",
      "1,720 \n",
      "03/24/2022\n",
      "3,270 \n",
      "1,649 \n",
      "03/25/2022\n",
      "3,522 \n",
      "1,776 \n",
      "03/26/2022\n",
      "3,236 \n",
      "1,632 \n",
      "03/27/2022\n",
      "1,962 \n",
      "989 \n",
      "03/28/2022\n",
      "3,141 \n",
      "1,584 \n",
      "03/29/2022\n",
      "3,610 \n",
      "1,820 \n",
      "03/30/2022\n",
      "5,119 \n",
      "2,581 \n",
      "03/31/2022\n",
      "4,798 \n",
      "2,419 \n",
      "04/01/2022\n",
      "5,435 \n",
      "2,740 \n",
      "04/02/2022\n",
      "4,929 \n",
      "2,485 \n",
      "04/03/2022\n",
      "4,722 \n",
      "2,380 \n",
      "04/04/2022\n",
      "        --\n",
      "        --\n",
      "04/05/2022\n",
      "        --\n",
      "        --\n",
      "04/06/2022\n",
      "        --\n",
      "        --\n",
      "04/07/2022\n",
      "        --\n",
      "        --\n",
      "04/08/2022\n",
      "        --\n",
      "        --\n",
      "04/09/2022\n",
      "        --\n",
      "        --\n",
      "04/10/2022\n",
      "        --\n",
      "        --\n",
      "04/11/2022\n",
      "        --\n",
      "        --\n",
      "04/12/2022\n",
      "        --\n",
      "        --\n"
     ]
    }
   ],
   "source": [
    "site = 'K2P'\n",
    "start_date = '2021-04-12'\n",
    "end_date = '2022-04-12'\n",
    "url = 'https://cdec.water.ca.gov/dynamicapp/QueryDaily?s={site}&start={start}&end={end}'.format(site=site, start=start_date, end=end_date)\n",
    "req = requests.get(url)\n",
    "url\n",
    "# url ='https://cdec.water.ca.gov/dynamicapp/QueryDaily?s=K2P&end=2022-04-12&start=2021-04-12&format=json'\n",
    "req = requests.get(url)\n",
    "\n",
    "from bs4 import BeautifulSoup\n",
    "\n",
    "page = requests.get(url)\n",
    "soup = BeautifulSoup(page.content, 'html.parser')\n",
    "title = soup.title.text # gets you the text of the <title>(...)</title>\n",
    "tab = soup.table\n",
    "date = []\n",
    "outflow_af = []\n",
    "dis_cfs = []\n",
    "for val in tab.contents[3].text.split('\\n'):\n",
    "    if(val!=''):\n",
    "        print(val)"
   ]
  },
  {
   "cell_type": "code",
   "execution_count": 188,
   "metadata": {},
   "outputs": [
    {
     "data": {
      "text/plain": [
       "'https://cdec.water.ca.gov/dynamicapp/QueryDaily?s=K2P&start=2021-04-12&end=2022-04-12'"
      ]
     },
     "execution_count": 188,
     "metadata": {},
     "output_type": "execute_result"
    }
   ],
   "source": [
    "url"
   ]
  },
  {
   "cell_type": "code",
   "execution_count": 189,
   "metadata": {},
   "outputs": [],
   "source": [
    "data = []\n",
    "for val in tab.contents[3].text.split('\\n'):\n",
    "    if(val!=''):\n",
    "            data.append(val)\n",
    "mat = np.reshape(data,(31,3))\n",
    "\n"
   ]
  },
  {
   "cell_type": "code",
   "execution_count": 196,
   "metadata": {},
   "outputs": [
    {
     "data": {
      "text/plain": [
       "'https://cdec.water.ca.gov/dynamicapp/QueryDaily?s=K2P&start=2021-04-12&end=2022-04-12'"
      ]
     },
     "execution_count": 196,
     "metadata": {},
     "output_type": "execute_result"
    }
   ],
   "source": [
    "#date = mat[:,0]\n",
    "#outflow_af = [float(val) for val in mat[:,1]]\n",
    "#dis_cfs = [float(val) for val in mat[:,2]]\n",
    "#dts = [dt.datetime.strptime(d, '%m/%d/%Y') for d in date]\n",
    "url"
   ]
  },
  {
   "cell_type": "code",
   "execution_count": null,
   "metadata": {},
   "outputs": [
    {
     "data": {
      "text/plain": [
       "[<matplotlib.lines.Line2D at 0x2c80e1278b0>]"
      ]
     },
     "execution_count": 124,
     "metadata": {},
     "output_type": "execute_result"
    },
    {
     "data": {
      "image/png": "[encoded data removed]",
      "text/plain": [
       "<Figure size 432x288 with 1 Axes>"
      ]
     },
     "metadata": {
      "needs_background": "light"
     },
     "output_type": "display_data"
    }
   ],
   "source": [
    "fig,ax=plt.subplots()\n",
    "ax.plot(dts,outflow_af)\n",
    "ax.plot(dts,dis_cfs)"
   ]
  },
  {
   "cell_type": "code",
   "execution_count": null,
   "metadata": {},
   "outputs": [],
   "source": [
    "## currently coded for discharge and outflow, edit to change variable types\n",
    "def get_cdec_details (site, start_date, end_date):\n",
    "    setlocale(LC_NUMERIC,'')\n",
    "    sdt = dt.datetime.strptime(start_date,'%Y-%m-%d')\n",
    "    edt = dt.datetime.strptime(end_date,'%Y-%m-%d')\n",
    "    span = (edt-sdt).days\n",
    "    # url = 'https://cdec.water.ca.gov/dynamicapp/QueryDaily?s={site}&start={start}&end={end}'.format(site=site, start=start_date, end=end_date)\n",
    "    url = 'https://cdec.water.ca.gov/dynamicapp/QueryDaily?s={site}&end={end}&span={span}'.format(site=site, start=start_date, end=end_date, span = span)\n",
    "\n",
    "    page = requests.get(url)\n",
    "\n",
    "    if page.status_code != 200 :\n",
    "        print('request has returned with status {}'.format(req.status_code))\n",
    "        return\n",
    "\n",
    "    soup = BeautifulSoup(page.content, 'html.parser')\n",
    "    title = soup.title.text # gets you the text of the <title>(...)</title>\n",
    "    tab = soup.table\n",
    "\n",
    "    data = []\n",
    "    for val in tab.contents[3].text.split('\\n'):\n",
    "        if(val!=''):\n",
    "            data.append(val)\n",
    "    size = (len(data)/3)\n",
    "    mat = np.reshape(data,(int(size),3))\n",
    "    \n",
    "    outflow_af =[]\n",
    "    dis_cfs=[]\n",
    "    date = mat[:,0]\n",
    "    for i in range(len(date)):\n",
    "        tmp = mat[i,1]\n",
    "        try:\n",
    "            outflow_af.append(atof(tmp))\n",
    "        except:\n",
    "            outflow_af.append(np.nan)\n",
    "            #continue\n",
    "        tmp = mat[i,2]\n",
    "        try:\n",
    "            dis_cfs.append(atof(tmp))\n",
    "        except:\n",
    "            dis_cfs.append(np.nan)\n",
    "            #continue\n",
    "\n",
    "\n",
    "    \n",
    "    #outflow_af = [atof(val) for val in mat[:,1]]\n",
    "    #dis_cfs = [atof(val) for val in mat[:,2]]\n",
    "    dts = [dt.datetime.strptime(d, '%m/%d/%Y') for d in date]\n",
    "\n",
    "\n",
    "    # begin building what I'll return\n",
    "    good_data = {}\n",
    "    # I will use this to keep track of any problems that I don't want to stop on\n",
    "    good_data['problems'] = []\n",
    "\n",
    "    # get site name\n",
    "    good_data['siteName'] = title\n",
    "    good_data['date'] = dts\n",
    "    good_data['outflow_af'] = outflow_af\n",
    "    good_data['dis_cfs'] = dis_cfs\n",
    "\n",
    "    return good_data"
   ]
  },
  {
   "cell_type": "code",
   "execution_count": 193,
   "metadata": {},
   "outputs": [],
   "source": [
    "site = 'K2P'\n",
    "start_date = '2021-04-12'\n",
    "end_date = '2022-04-12'\n",
    "data = get_cdec_details(site,start_date,end_date)"
   ]
  },
  {
   "cell_type": "code",
   "execution_count": 194,
   "metadata": {},
   "outputs": [
    {
     "data": {
      "text/plain": [
       "[<matplotlib.lines.Line2D at 0x2c80e2e6fd0>]"
      ]
     },
     "execution_count": 194,
     "metadata": {},
     "output_type": "execute_result"
    },
    {
     "data": {
      "image/png": "[encoded data removed]",
      "text/plain": [
       "<Figure size 432x288 with 2 Axes>"
      ]
     },
     "metadata": {
      "needs_background": "light"
     },
     "output_type": "display_data"
    }
   ],
   "source": [
    "fig,ax=plt.subplots()\n",
    "ax.plot(data['date'],data['outflow_af'],'+')\n",
    "ax2 = ax.twinx()\n",
    "ax2.plot(data['date'],data['dis_cfs'],'--')"
   ]
  },
  {
   "cell_type": "code",
   "execution_count": null,
   "metadata": {},
   "outputs": [],
   "source": [
    "def get_details (site, start_date, end_date):\n",
    "    url = 'https://nwis.waterservices.usgs.gov/nwis/iv/?site={site}&startDT={start}&endDT={end}&parameterCD=00060&format=json'.format(site=site, start=start_date, end=end_date)\n",
    "\n",
    "    req = requests.get(url)\n",
    "\n",
    "    if req.status_code != 200 :\n",
    "        print('request has returned with status {}'.format(req.status_code))\n",
    "        return\n",
    "\n",
    "    resp_data = json.loads(req.text)\n",
    "    # I need the data itself, the bad value, unit, variable description and name\n",
    "    # discard unneeded data\n",
    "    resp_data = resp_data['value']['timeSeries'][0]\n",
    "\n",
    "    # begin building what I'll return\n",
    "    good_data = {}\n",
    "    # I will use this to keep track of any problems that I don't want to stop on\n",
    "    good_data['problems'] = []\n",
    "\n",
    "    # get site number (I want to be sure they match)\n",
    "    site_num = resp_data['sourceInfo']['siteCode'][0]['value']\n",
    "    good_data['site_num'] = site_num\n",
    "    if site_num != site :\n",
    "        good_data['problems'].append('Site number in response {} does not match given {}'.format(site_num, site))\n",
    "\n",
    "    # get site name\n",
    "    good_data['siteName'] = resp_data['sourceInfo']['siteName']\n",
    "\n",
    "    # get huc code\n",
    "    huc_code = next(i for i in resp_data['sourceInfo']['siteProperty'] if i['name'] == 'hucCd')\n",
    "    good_data['huc_code'] = huc_code['value']\n",
    "\n",
    "    # get no-data value\n",
    "    no_value = resp_data['variable']['noDataValue']\n",
    "\n",
    "    # get variable description\n",
    "    var_description = resp_data['variable']['variableDescription']\n",
    "    good_data['var_description'] = var_description\n",
    "\n",
    "    # get datapoints\n",
    "    good_data['series'] = []\n",
    "    good_data['value'] = []\n",
    "    good_data['datetime'] = []\n",
    "    for item in resp_data['values'][0]['value'] :\n",
    "        if item['value'] == no_value:\n",
    "            item['value'] = None\n",
    "        del item['qualifiers']\n",
    "        good_data['series'].append(item)\n",
    "        good_data['value'].append(item['value'])\n",
    "        good_data['datetime'].append(item['dateTime'])\n",
    "    \n",
    "\n",
    "\n",
    "    ## below this point is temperature\n",
    "    url = 'https://nwis.waterservices.usgs.gov/nwis/iv/?site={site}&startDT={start}&endDT={end}&parameterCD=00010&format=json'.format(site=site, start=start_date, end=end_date)\n",
    "\n",
    "    req = requests.get(url)\n",
    "\n",
    "    if req.status_code != 200 :\n",
    "        print('request has returned with status {}'.format(req.status_code))\n",
    "        return\n",
    "\n",
    "    resp_data = json.loads(req.text)\n",
    "    # I need the data itself, the bad value, unit, variable description and name\n",
    "    # discard unneeded data\n",
    "    resp_data = resp_data['value']['timeSeries'][0]\n",
    "\n",
    "    # begin building what I'll return\n",
    "    good_data_t = {}\n",
    "    # I will use this to keep track of any problems that I don't want to stop on\n",
    "    good_data_t['problems'] = []\n",
    "\n",
    "    # get site number (I want to be sure they match)\n",
    "    site_num = resp_data['sourceInfo']['siteCode'][0]['value']\n",
    "    good_data_t['site_num'] = site_num\n",
    "    if site_num != site :\n",
    "        good_data_t['problems'].append('Site number in response {} does not match given {}'.format(site_num, site))\n",
    "\n",
    "    # get site name\n",
    "    good_data_t['siteName'] = resp_data['sourceInfo']['siteName']\n",
    "\n",
    "    # get huc code\n",
    "    huc_code = next(i for i in resp_data['sourceInfo']['siteProperty'] if i['name'] == 'hucCd')\n",
    "    good_data_t['huc_code'] = huc_code['value']\n",
    "\n",
    "    # get no-data value\n",
    "    no_value = resp_data['variable']['noDataValue']\n",
    "\n",
    "    # get variable description\n",
    "    var_description = resp_data['variable']['variableDescription']\n",
    "    good_data_t['var_description'] = var_description\n",
    "\n",
    "    # get datapoints\n",
    "    good_data_t['series'] = []\n",
    "    good_data_t['value'] = []\n",
    "    good_data_t['datetime'] = []\n",
    "    for item in resp_data['values'][0]['value'] :\n",
    "        if item['value'] == no_value:\n",
    "            item['value'] = None\n",
    "        del item['qualifiers']\n",
    "        good_data_t['series'].append(item)\n",
    "        good_data_t['value'].append(item['value'])\n",
    "        good_data_t['datetime'].append(item['dateTime'])\n",
    "\n",
    "    df = pd.DataFrame(data = good_data['value'],index = good_data['datetime'],columns=['streamflow'])\n",
    "    df_t = pd.DataFrame(data = good_data_t['value'], index = good_data_t['datetime'],columns = ['temperature'])\n",
    "\n",
    "    df_dt = df.merge(df_t,left_index=True,right_index=True)\n",
    "    \n",
    "    return good_data, df_dt"
   ]
  },
  {
   "cell_type": "code",
   "execution_count": 4,
   "metadata": {},
   "outputs": [],
   "source": [
    "site =11251000\n",
    "start_date = '2019-01-01'\n",
    "end_date ='2022-02-08'\n",
    "url = 'https://nwis.waterservices.usgs.gov/nwis/iv/?site={site}&startDT={start}&endDT={end}&parameterCD=00060&format=json'.format(site=site, start=start_date, end=end_date)\n",
    "\n",
    "req = requests.get(url)\n",
    "\n",
    "resp_data = json.loads(req.text)\n",
    "# I need the data itself, the bad value, unit, variable description and name\n",
    "# discard unneeded data\n",
    "resp_data = resp_data['value']['timeSeries'][0]\n",
    "\n",
    "# begin building what I'll return\n",
    "good_data = {}\n",
    "# I will use this to keep track of any problems that I don't want to stop on\n",
    "good_data['problems'] = []\n",
    "\n",
    "# get site number (I want to be sure they match)\n",
    "site_num = resp_data['sourceInfo']['siteCode'][0]['value']\n",
    "good_data['site_num'] = site_num\n",
    "if site_num != site :\n",
    "    good_data['problems'].append('Site number in response {} does not match given {}'.format(site_num, site))\n",
    "\n",
    "# get site name\n",
    "good_data['siteName'] = resp_data['sourceInfo']['siteName']\n",
    "\n",
    "# get huc code\n",
    "huc_code = next(i for i in resp_data['sourceInfo']['siteProperty'] if i['name'] == 'hucCd')\n",
    "good_data['huc_code'] = huc_code['value']\n",
    "\n",
    "# get no-data value\n",
    "no_value = resp_data['variable']['noDataValue']\n",
    "\n",
    "# get variable description\n",
    "var_description = resp_data['variable']['variableDescription']\n",
    "good_data['var_description'] = var_description\n",
    "\n",
    "# get datapoints\n",
    "good_data['series'] = []\n",
    "good_data['value'] = []\n",
    "good_data['datetime'] = []\n",
    "for item in resp_data['values'][0]['value'] :\n",
    "    if item['value'] == no_value:\n",
    "        item['value'] = None\n",
    "    del item['qualifiers']\n",
    "    good_data['series'].append(item)\n",
    "    good_data['value'].append(item['value'])\n",
    "    good_data['datetime'].append(item['dateTime'])\n",
    "\n",
    "\n",
    "\n",
    "## below this point is temperature\n",
    "url = 'https://nwis.waterservices.usgs.gov/nwis/iv/?site={site}&startDT={start}&endDT={end}&parameterCD=00010&format=json'.format(site=site, start=start_date, end=end_date)\n",
    "\n",
    "req = requests.get(url)\n",
    "\n",
    "resp_data = json.loads(req.text)\n",
    "# I need the data itself, the bad value, unit, variable description and name\n",
    "# discard unneeded data\n",
    "resp_data = resp_data['value']['timeSeries'][0]\n",
    "\n",
    "# begin building what I'll return\n",
    "good_data_t = {}\n",
    "# I will use this to keep track of any problems that I don't want to stop on\n",
    "good_data_t['problems'] = []\n",
    "\n",
    "# get site number (I want to be sure they match)\n",
    "site_num = resp_data['sourceInfo']['siteCode'][0]['value']\n",
    "good_data_t['site_num'] = site_num\n",
    "if site_num != site :\n",
    "    good_data_t['problems'].append('Site number in response {} does not match given {}'.format(site_num, site))\n",
    "\n",
    "# get site name\n",
    "good_data_t['siteName'] = resp_data['sourceInfo']['siteName']\n",
    "\n",
    "# get huc code\n",
    "huc_code = next(i for i in resp_data['sourceInfo']['siteProperty'] if i['name'] == 'hucCd')\n",
    "good_data_t['huc_code'] = huc_code['value']\n",
    "\n",
    "# get no-data value\n",
    "no_value = resp_data['variable']['noDataValue']\n",
    "\n",
    "# get variable description\n",
    "var_description = resp_data['variable']['variableDescription']\n",
    "good_data_t['var_description'] = var_description\n",
    "\n",
    "# get datapoints\n",
    "good_data_t['series'] = []\n",
    "good_data_t['value'] = []\n",
    "good_data_t['datetime'] = []\n",
    "for item in resp_data['values'][0]['value'] :\n",
    "    if item['value'] == no_value:\n",
    "        item['value'] = None\n",
    "    del item['qualifiers']\n",
    "    good_data_t['series'].append(item)\n",
    "    good_data_t['value'].append(item['value'])\n",
    "    good_data_t['datetime'].append(item['dateTime'])\n",
    "\n",
    "df = pd.DataFrame(data = good_data['value'],index = good_data['datetime'],columns=['streamflow'])\n",
    "df_t = pd.DataFrame(data = good_data_t['value'], index = good_data_t['datetime'],columns = ['temperature'])\n",
    "\n",
    "df_dt = df.merge(df_t,left_index=True,right_index=True)\n"
   ]
  },
  {
   "cell_type": "code",
   "execution_count": 28,
   "metadata": {},
   "outputs": [],
   "source": [
    "data_downstream, df_downstream = get_details(site =11251000, start_date = '2018-10-01',end_date ='2022-04-08')\n",
    "from dateutil import parser\n",
    "dt_down = [parser.parse(i) for i in df_downstream.index]\n",
    "df_downstream['dt'] = dt_down"
   ]
  },
  {
   "cell_type": "code",
   "execution_count": 30,
   "metadata": {},
   "outputs": [],
   "source": [
    "\n"
   ]
  },
  {
   "cell_type": "code",
   "execution_count": 31,
   "metadata": {},
   "outputs": [],
   "source": []
  },
  {
   "cell_type": "code",
   "execution_count": 26,
   "metadata": {},
   "outputs": [
    {
     "ename": "SSLError",
     "evalue": "HTTPSConnectionPool(host='nwis.waterservices.usgs.gov', port=443): Max retries exceeded with url: /nwis/iv/?site=11251000&startDT=2018-10-01&endDT=2022-04-08&parameterCD=00060&format=json (Caused by SSLError(SSLEOFError(8, 'EOF occurred in violation of protocol (_ssl.c:1129)')))",
     "output_type": "error",
     "traceback": [
      "\u001b[1;31m---------------------------------------------------------------------------\u001b[0m",
      "\u001b[1;31mSSLEOFError\u001b[0m                               Traceback (most recent call last)",
      "\u001b[1;32m~\\anaconda3\\envs\\swe\\lib\\site-packages\\urllib3\\connectionpool.py\u001b[0m in \u001b[0;36murlopen\u001b[1;34m(self, method, url, body, headers, retries, redirect, assert_same_host, timeout, pool_timeout, release_conn, chunked, body_pos, **response_kw)\u001b[0m\n\u001b[0;32m    698\u001b[0m             \u001b[1;31m# Make the request on the httplib connection object.\u001b[0m\u001b[1;33m\u001b[0m\u001b[1;33m\u001b[0m\u001b[0m\n\u001b[1;32m--> 699\u001b[1;33m             httplib_response = self._make_request(\n\u001b[0m\u001b[0;32m    700\u001b[0m                 \u001b[0mconn\u001b[0m\u001b[1;33m,\u001b[0m\u001b[1;33m\u001b[0m\u001b[1;33m\u001b[0m\u001b[0m\n",
      "\u001b[1;32m~\\anaconda3\\envs\\swe\\lib\\site-packages\\urllib3\\connectionpool.py\u001b[0m in \u001b[0;36m_make_request\u001b[1;34m(self, conn, method, url, timeout, chunked, **httplib_request_kw)\u001b[0m\n\u001b[0;32m    381\u001b[0m         \u001b[1;32mtry\u001b[0m\u001b[1;33m:\u001b[0m\u001b[1;33m\u001b[0m\u001b[1;33m\u001b[0m\u001b[0m\n\u001b[1;32m--> 382\u001b[1;33m             \u001b[0mself\u001b[0m\u001b[1;33m.\u001b[0m\u001b[0m_validate_conn\u001b[0m\u001b[1;33m(\u001b[0m\u001b[0mconn\u001b[0m\u001b[1;33m)\u001b[0m\u001b[1;33m\u001b[0m\u001b[1;33m\u001b[0m\u001b[0m\n\u001b[0m\u001b[0;32m    383\u001b[0m         \u001b[1;32mexcept\u001b[0m \u001b[1;33m(\u001b[0m\u001b[0mSocketTimeout\u001b[0m\u001b[1;33m,\u001b[0m \u001b[0mBaseSSLError\u001b[0m\u001b[1;33m)\u001b[0m \u001b[1;32mas\u001b[0m \u001b[0me\u001b[0m\u001b[1;33m:\u001b[0m\u001b[1;33m\u001b[0m\u001b[1;33m\u001b[0m\u001b[0m\n",
      "\u001b[1;32m~\\anaconda3\\envs\\swe\\lib\\site-packages\\urllib3\\connectionpool.py\u001b[0m in \u001b[0;36m_validate_conn\u001b[1;34m(self, conn)\u001b[0m\n\u001b[0;32m   1009\u001b[0m         \u001b[1;32mif\u001b[0m \u001b[1;32mnot\u001b[0m \u001b[0mgetattr\u001b[0m\u001b[1;33m(\u001b[0m\u001b[0mconn\u001b[0m\u001b[1;33m,\u001b[0m \u001b[1;34m\"sock\"\u001b[0m\u001b[1;33m,\u001b[0m \u001b[1;32mNone\u001b[0m\u001b[1;33m)\u001b[0m\u001b[1;33m:\u001b[0m  \u001b[1;31m# AppEngine might not have  `.sock`\u001b[0m\u001b[1;33m\u001b[0m\u001b[1;33m\u001b[0m\u001b[0m\n\u001b[1;32m-> 1010\u001b[1;33m             \u001b[0mconn\u001b[0m\u001b[1;33m.\u001b[0m\u001b[0mconnect\u001b[0m\u001b[1;33m(\u001b[0m\u001b[1;33m)\u001b[0m\u001b[1;33m\u001b[0m\u001b[1;33m\u001b[0m\u001b[0m\n\u001b[0m\u001b[0;32m   1011\u001b[0m \u001b[1;33m\u001b[0m\u001b[0m\n",
      "\u001b[1;32m~\\anaconda3\\envs\\swe\\lib\\site-packages\\urllib3\\connection.py\u001b[0m in \u001b[0;36mconnect\u001b[1;34m(self)\u001b[0m\n\u001b[0;32m    415\u001b[0m \u001b[1;33m\u001b[0m\u001b[0m\n\u001b[1;32m--> 416\u001b[1;33m         self.sock = ssl_wrap_socket(\n\u001b[0m\u001b[0;32m    417\u001b[0m             \u001b[0msock\u001b[0m\u001b[1;33m=\u001b[0m\u001b[0mconn\u001b[0m\u001b[1;33m,\u001b[0m\u001b[1;33m\u001b[0m\u001b[1;33m\u001b[0m\u001b[0m\n",
      "\u001b[1;32m~\\anaconda3\\envs\\swe\\lib\\site-packages\\urllib3\\util\\ssl_.py\u001b[0m in \u001b[0;36mssl_wrap_socket\u001b[1;34m(sock, keyfile, certfile, cert_reqs, ca_certs, server_hostname, ssl_version, ciphers, ssl_context, ca_cert_dir, key_password, ca_cert_data, tls_in_tls)\u001b[0m\n\u001b[0;32m    448\u001b[0m     \u001b[1;32mif\u001b[0m \u001b[0msend_sni\u001b[0m\u001b[1;33m:\u001b[0m\u001b[1;33m\u001b[0m\u001b[1;33m\u001b[0m\u001b[0m\n\u001b[1;32m--> 449\u001b[1;33m         ssl_sock = _ssl_wrap_socket_impl(\n\u001b[0m\u001b[0;32m    450\u001b[0m             \u001b[0msock\u001b[0m\u001b[1;33m,\u001b[0m \u001b[0mcontext\u001b[0m\u001b[1;33m,\u001b[0m \u001b[0mtls_in_tls\u001b[0m\u001b[1;33m,\u001b[0m \u001b[0mserver_hostname\u001b[0m\u001b[1;33m=\u001b[0m\u001b[0mserver_hostname\u001b[0m\u001b[1;33m\u001b[0m\u001b[1;33m\u001b[0m\u001b[0m\n",
      "\u001b[1;32m~\\anaconda3\\envs\\swe\\lib\\site-packages\\urllib3\\util\\ssl_.py\u001b[0m in \u001b[0;36m_ssl_wrap_socket_impl\u001b[1;34m(sock, ssl_context, tls_in_tls, server_hostname)\u001b[0m\n\u001b[0;32m    492\u001b[0m     \u001b[1;32mif\u001b[0m \u001b[0mserver_hostname\u001b[0m\u001b[1;33m:\u001b[0m\u001b[1;33m\u001b[0m\u001b[1;33m\u001b[0m\u001b[0m\n\u001b[1;32m--> 493\u001b[1;33m         \u001b[1;32mreturn\u001b[0m \u001b[0mssl_context\u001b[0m\u001b[1;33m.\u001b[0m\u001b[0mwrap_socket\u001b[0m\u001b[1;33m(\u001b[0m\u001b[0msock\u001b[0m\u001b[1;33m,\u001b[0m \u001b[0mserver_hostname\u001b[0m\u001b[1;33m=\u001b[0m\u001b[0mserver_hostname\u001b[0m\u001b[1;33m)\u001b[0m\u001b[1;33m\u001b[0m\u001b[1;33m\u001b[0m\u001b[0m\n\u001b[0m\u001b[0;32m    494\u001b[0m     \u001b[1;32melse\u001b[0m\u001b[1;33m:\u001b[0m\u001b[1;33m\u001b[0m\u001b[1;33m\u001b[0m\u001b[0m\n",
      "\u001b[1;32m~\\anaconda3\\envs\\swe\\lib\\ssl.py\u001b[0m in \u001b[0;36mwrap_socket\u001b[1;34m(self, sock, server_side, do_handshake_on_connect, suppress_ragged_eofs, server_hostname, session)\u001b[0m\n\u001b[0;32m    499\u001b[0m         \u001b[1;31m# ctx._wrap_socket()\u001b[0m\u001b[1;33m\u001b[0m\u001b[1;33m\u001b[0m\u001b[0m\n\u001b[1;32m--> 500\u001b[1;33m         return self.sslsocket_class._create(\n\u001b[0m\u001b[0;32m    501\u001b[0m             \u001b[0msock\u001b[0m\u001b[1;33m=\u001b[0m\u001b[0msock\u001b[0m\u001b[1;33m,\u001b[0m\u001b[1;33m\u001b[0m\u001b[1;33m\u001b[0m\u001b[0m\n",
      "\u001b[1;32m~\\anaconda3\\envs\\swe\\lib\\ssl.py\u001b[0m in \u001b[0;36m_create\u001b[1;34m(cls, sock, server_side, do_handshake_on_connect, suppress_ragged_eofs, server_hostname, context, session)\u001b[0m\n\u001b[0;32m   1039\u001b[0m                         \u001b[1;32mraise\u001b[0m \u001b[0mValueError\u001b[0m\u001b[1;33m(\u001b[0m\u001b[1;34m\"do_handshake_on_connect should not be specified for non-blocking sockets\"\u001b[0m\u001b[1;33m)\u001b[0m\u001b[1;33m\u001b[0m\u001b[1;33m\u001b[0m\u001b[0m\n\u001b[1;32m-> 1040\u001b[1;33m                     \u001b[0mself\u001b[0m\u001b[1;33m.\u001b[0m\u001b[0mdo_handshake\u001b[0m\u001b[1;33m(\u001b[0m\u001b[1;33m)\u001b[0m\u001b[1;33m\u001b[0m\u001b[1;33m\u001b[0m\u001b[0m\n\u001b[0m\u001b[0;32m   1041\u001b[0m             \u001b[1;32mexcept\u001b[0m \u001b[1;33m(\u001b[0m\u001b[0mOSError\u001b[0m\u001b[1;33m,\u001b[0m \u001b[0mValueError\u001b[0m\u001b[1;33m)\u001b[0m\u001b[1;33m:\u001b[0m\u001b[1;33m\u001b[0m\u001b[1;33m\u001b[0m\u001b[0m\n",
      "\u001b[1;32m~\\anaconda3\\envs\\swe\\lib\\ssl.py\u001b[0m in \u001b[0;36mdo_handshake\u001b[1;34m(self, block)\u001b[0m\n\u001b[0;32m   1308\u001b[0m                 \u001b[0mself\u001b[0m\u001b[1;33m.\u001b[0m\u001b[0msettimeout\u001b[0m\u001b[1;33m(\u001b[0m\u001b[1;32mNone\u001b[0m\u001b[1;33m)\u001b[0m\u001b[1;33m\u001b[0m\u001b[1;33m\u001b[0m\u001b[0m\n\u001b[1;32m-> 1309\u001b[1;33m             \u001b[0mself\u001b[0m\u001b[1;33m.\u001b[0m\u001b[0m_sslobj\u001b[0m\u001b[1;33m.\u001b[0m\u001b[0mdo_handshake\u001b[0m\u001b[1;33m(\u001b[0m\u001b[1;33m)\u001b[0m\u001b[1;33m\u001b[0m\u001b[1;33m\u001b[0m\u001b[0m\n\u001b[0m\u001b[0;32m   1310\u001b[0m         \u001b[1;32mfinally\u001b[0m\u001b[1;33m:\u001b[0m\u001b[1;33m\u001b[0m\u001b[1;33m\u001b[0m\u001b[0m\n",
      "\u001b[1;31mSSLEOFError\u001b[0m: EOF occurred in violation of protocol (_ssl.c:1129)",
      "\nDuring handling of the above exception, another exception occurred:\n",
      "\u001b[1;31mMaxRetryError\u001b[0m                             Traceback (most recent call last)",
      "\u001b[1;32m~\\anaconda3\\envs\\swe\\lib\\site-packages\\requests\\adapters.py\u001b[0m in \u001b[0;36msend\u001b[1;34m(self, request, stream, timeout, verify, cert, proxies)\u001b[0m\n\u001b[0;32m    438\u001b[0m             \u001b[1;32mif\u001b[0m \u001b[1;32mnot\u001b[0m \u001b[0mchunked\u001b[0m\u001b[1;33m:\u001b[0m\u001b[1;33m\u001b[0m\u001b[1;33m\u001b[0m\u001b[0m\n\u001b[1;32m--> 439\u001b[1;33m                 resp = conn.urlopen(\n\u001b[0m\u001b[0;32m    440\u001b[0m                     \u001b[0mmethod\u001b[0m\u001b[1;33m=\u001b[0m\u001b[0mrequest\u001b[0m\u001b[1;33m.\u001b[0m\u001b[0mmethod\u001b[0m\u001b[1;33m,\u001b[0m\u001b[1;33m\u001b[0m\u001b[1;33m\u001b[0m\u001b[0m\n",
      "\u001b[1;32m~\\anaconda3\\envs\\swe\\lib\\site-packages\\urllib3\\connectionpool.py\u001b[0m in \u001b[0;36murlopen\u001b[1;34m(self, method, url, body, headers, retries, redirect, assert_same_host, timeout, pool_timeout, release_conn, chunked, body_pos, **response_kw)\u001b[0m\n\u001b[0;32m    754\u001b[0m \u001b[1;33m\u001b[0m\u001b[0m\n\u001b[1;32m--> 755\u001b[1;33m             retries = retries.increment(\n\u001b[0m\u001b[0;32m    756\u001b[0m                 \u001b[0mmethod\u001b[0m\u001b[1;33m,\u001b[0m \u001b[0murl\u001b[0m\u001b[1;33m,\u001b[0m \u001b[0merror\u001b[0m\u001b[1;33m=\u001b[0m\u001b[0me\u001b[0m\u001b[1;33m,\u001b[0m \u001b[0m_pool\u001b[0m\u001b[1;33m=\u001b[0m\u001b[0mself\u001b[0m\u001b[1;33m,\u001b[0m \u001b[0m_stacktrace\u001b[0m\u001b[1;33m=\u001b[0m\u001b[0msys\u001b[0m\u001b[1;33m.\u001b[0m\u001b[0mexc_info\u001b[0m\u001b[1;33m(\u001b[0m\u001b[1;33m)\u001b[0m\u001b[1;33m[\u001b[0m\u001b[1;36m2\u001b[0m\u001b[1;33m]\u001b[0m\u001b[1;33m\u001b[0m\u001b[1;33m\u001b[0m\u001b[0m\n",
      "\u001b[1;32m~\\anaconda3\\envs\\swe\\lib\\site-packages\\urllib3\\util\\retry.py\u001b[0m in \u001b[0;36mincrement\u001b[1;34m(self, method, url, response, error, _pool, _stacktrace)\u001b[0m\n\u001b[0;32m    573\u001b[0m         \u001b[1;32mif\u001b[0m \u001b[0mnew_retry\u001b[0m\u001b[1;33m.\u001b[0m\u001b[0mis_exhausted\u001b[0m\u001b[1;33m(\u001b[0m\u001b[1;33m)\u001b[0m\u001b[1;33m:\u001b[0m\u001b[1;33m\u001b[0m\u001b[1;33m\u001b[0m\u001b[0m\n\u001b[1;32m--> 574\u001b[1;33m             \u001b[1;32mraise\u001b[0m \u001b[0mMaxRetryError\u001b[0m\u001b[1;33m(\u001b[0m\u001b[0m_pool\u001b[0m\u001b[1;33m,\u001b[0m \u001b[0murl\u001b[0m\u001b[1;33m,\u001b[0m \u001b[0merror\u001b[0m \u001b[1;32mor\u001b[0m \u001b[0mResponseError\u001b[0m\u001b[1;33m(\u001b[0m\u001b[0mcause\u001b[0m\u001b[1;33m)\u001b[0m\u001b[1;33m)\u001b[0m\u001b[1;33m\u001b[0m\u001b[1;33m\u001b[0m\u001b[0m\n\u001b[0m\u001b[0;32m    575\u001b[0m \u001b[1;33m\u001b[0m\u001b[0m\n",
      "\u001b[1;31mMaxRetryError\u001b[0m: HTTPSConnectionPool(host='nwis.waterservices.usgs.gov', port=443): Max retries exceeded with url: /nwis/iv/?site=11251000&startDT=2018-10-01&endDT=2022-04-08&parameterCD=00060&format=json (Caused by SSLError(SSLEOFError(8, 'EOF occurred in violation of protocol (_ssl.c:1129)')))",
      "\nDuring handling of the above exception, another exception occurred:\n",
      "\u001b[1;31mSSLError\u001b[0m                                  Traceback (most recent call last)",
      "\u001b[1;32m~\\AppData\\Local\\Temp/ipykernel_2400/1875274911.py\u001b[0m in \u001b[0;36m<module>\u001b[1;34m\u001b[0m\n\u001b[1;32m----> 1\u001b[1;33m \u001b[0mdata_downstream\u001b[0m\u001b[1;33m,\u001b[0m \u001b[0mdf_downstream\u001b[0m \u001b[1;33m=\u001b[0m \u001b[0mget_details\u001b[0m\u001b[1;33m(\u001b[0m\u001b[0msite\u001b[0m \u001b[1;33m=\u001b[0m\u001b[1;36m11251000\u001b[0m\u001b[1;33m,\u001b[0m \u001b[0mstart_date\u001b[0m \u001b[1;33m=\u001b[0m \u001b[1;34m'2018-10-01'\u001b[0m\u001b[1;33m,\u001b[0m\u001b[0mend_date\u001b[0m \u001b[1;33m=\u001b[0m\u001b[1;34m'2022-04-08'\u001b[0m\u001b[1;33m)\u001b[0m\u001b[1;33m\u001b[0m\u001b[1;33m\u001b[0m\u001b[0m\n\u001b[0m\u001b[0;32m      2\u001b[0m \u001b[0mdata_upstream\u001b[0m\u001b[1;33m,\u001b[0m \u001b[0mdf_upstream\u001b[0m \u001b[1;33m=\u001b[0m \u001b[0mget_details\u001b[0m\u001b[1;33m(\u001b[0m\u001b[0msite\u001b[0m \u001b[1;33m=\u001b[0m\u001b[1;36m11224000\u001b[0m\u001b[1;33m,\u001b[0m \u001b[0mstart_date\u001b[0m \u001b[1;33m=\u001b[0m \u001b[1;34m'2019-08-10'\u001b[0m\u001b[1;33m,\u001b[0m\u001b[0mend_date\u001b[0m \u001b[1;33m=\u001b[0m\u001b[1;34m'2022-04-08'\u001b[0m\u001b[1;33m)\u001b[0m\u001b[1;33m\u001b[0m\u001b[1;33m\u001b[0m\u001b[0m\n\u001b[0;32m      3\u001b[0m \u001b[1;31m# data_three, df_three = get_details(site =11303500, start_date = '2019-01-01',end_date ='2022-02-08')\u001b[0m\u001b[1;33m\u001b[0m\u001b[1;33m\u001b[0m\u001b[0m\n\u001b[0;32m      4\u001b[0m \u001b[1;31m# data_four, df_four = get_details(site =11274000, start_date = '2019-01-01',end_date ='2022-02-08')\u001b[0m\u001b[1;33m\u001b[0m\u001b[1;33m\u001b[0m\u001b[0m\n\u001b[0;32m      5\u001b[0m \u001b[1;32mfrom\u001b[0m \u001b[0mdateutil\u001b[0m \u001b[1;32mimport\u001b[0m \u001b[0mparser\u001b[0m\u001b[1;33m\u001b[0m\u001b[1;33m\u001b[0m\u001b[0m\n",
      "\u001b[1;32m~\\AppData\\Local\\Temp/ipykernel_2400/2054819693.py\u001b[0m in \u001b[0;36mget_details\u001b[1;34m(site, start_date, end_date)\u001b[0m\n\u001b[0;32m      2\u001b[0m     \u001b[0murl\u001b[0m \u001b[1;33m=\u001b[0m \u001b[1;34m'https://nwis.waterservices.usgs.gov/nwis/iv/?site={site}&startDT={start}&endDT={end}&parameterCD=00060&format=json'\u001b[0m\u001b[1;33m.\u001b[0m\u001b[0mformat\u001b[0m\u001b[1;33m(\u001b[0m\u001b[0msite\u001b[0m\u001b[1;33m=\u001b[0m\u001b[0msite\u001b[0m\u001b[1;33m,\u001b[0m \u001b[0mstart\u001b[0m\u001b[1;33m=\u001b[0m\u001b[0mstart_date\u001b[0m\u001b[1;33m,\u001b[0m \u001b[0mend\u001b[0m\u001b[1;33m=\u001b[0m\u001b[0mend_date\u001b[0m\u001b[1;33m)\u001b[0m\u001b[1;33m\u001b[0m\u001b[1;33m\u001b[0m\u001b[0m\n\u001b[0;32m      3\u001b[0m \u001b[1;33m\u001b[0m\u001b[0m\n\u001b[1;32m----> 4\u001b[1;33m     \u001b[0mreq\u001b[0m \u001b[1;33m=\u001b[0m \u001b[0mrequests\u001b[0m\u001b[1;33m.\u001b[0m\u001b[0mget\u001b[0m\u001b[1;33m(\u001b[0m\u001b[0murl\u001b[0m\u001b[1;33m)\u001b[0m\u001b[1;33m\u001b[0m\u001b[1;33m\u001b[0m\u001b[0m\n\u001b[0m\u001b[0;32m      5\u001b[0m \u001b[1;33m\u001b[0m\u001b[0m\n\u001b[0;32m      6\u001b[0m     \u001b[1;32mif\u001b[0m \u001b[0mreq\u001b[0m\u001b[1;33m.\u001b[0m\u001b[0mstatus_code\u001b[0m \u001b[1;33m!=\u001b[0m \u001b[1;36m200\u001b[0m \u001b[1;33m:\u001b[0m\u001b[1;33m\u001b[0m\u001b[1;33m\u001b[0m\u001b[0m\n",
      "\u001b[1;32m~\\anaconda3\\envs\\swe\\lib\\site-packages\\requests\\api.py\u001b[0m in \u001b[0;36mget\u001b[1;34m(url, params, **kwargs)\u001b[0m\n\u001b[0;32m     73\u001b[0m     \"\"\"\n\u001b[0;32m     74\u001b[0m \u001b[1;33m\u001b[0m\u001b[0m\n\u001b[1;32m---> 75\u001b[1;33m     \u001b[1;32mreturn\u001b[0m \u001b[0mrequest\u001b[0m\u001b[1;33m(\u001b[0m\u001b[1;34m'get'\u001b[0m\u001b[1;33m,\u001b[0m \u001b[0murl\u001b[0m\u001b[1;33m,\u001b[0m \u001b[0mparams\u001b[0m\u001b[1;33m=\u001b[0m\u001b[0mparams\u001b[0m\u001b[1;33m,\u001b[0m \u001b[1;33m**\u001b[0m\u001b[0mkwargs\u001b[0m\u001b[1;33m)\u001b[0m\u001b[1;33m\u001b[0m\u001b[1;33m\u001b[0m\u001b[0m\n\u001b[0m\u001b[0;32m     76\u001b[0m \u001b[1;33m\u001b[0m\u001b[0m\n\u001b[0;32m     77\u001b[0m \u001b[1;33m\u001b[0m\u001b[0m\n",
      "\u001b[1;32m~\\anaconda3\\envs\\swe\\lib\\site-packages\\requests\\api.py\u001b[0m in \u001b[0;36mrequest\u001b[1;34m(method, url, **kwargs)\u001b[0m\n\u001b[0;32m     59\u001b[0m     \u001b[1;31m# cases, and look like a memory leak in others.\u001b[0m\u001b[1;33m\u001b[0m\u001b[1;33m\u001b[0m\u001b[0m\n\u001b[0;32m     60\u001b[0m     \u001b[1;32mwith\u001b[0m \u001b[0msessions\u001b[0m\u001b[1;33m.\u001b[0m\u001b[0mSession\u001b[0m\u001b[1;33m(\u001b[0m\u001b[1;33m)\u001b[0m \u001b[1;32mas\u001b[0m \u001b[0msession\u001b[0m\u001b[1;33m:\u001b[0m\u001b[1;33m\u001b[0m\u001b[1;33m\u001b[0m\u001b[0m\n\u001b[1;32m---> 61\u001b[1;33m         \u001b[1;32mreturn\u001b[0m \u001b[0msession\u001b[0m\u001b[1;33m.\u001b[0m\u001b[0mrequest\u001b[0m\u001b[1;33m(\u001b[0m\u001b[0mmethod\u001b[0m\u001b[1;33m=\u001b[0m\u001b[0mmethod\u001b[0m\u001b[1;33m,\u001b[0m \u001b[0murl\u001b[0m\u001b[1;33m=\u001b[0m\u001b[0murl\u001b[0m\u001b[1;33m,\u001b[0m \u001b[1;33m**\u001b[0m\u001b[0mkwargs\u001b[0m\u001b[1;33m)\u001b[0m\u001b[1;33m\u001b[0m\u001b[1;33m\u001b[0m\u001b[0m\n\u001b[0m\u001b[0;32m     62\u001b[0m \u001b[1;33m\u001b[0m\u001b[0m\n\u001b[0;32m     63\u001b[0m \u001b[1;33m\u001b[0m\u001b[0m\n",
      "\u001b[1;32m~\\anaconda3\\envs\\swe\\lib\\site-packages\\requests\\sessions.py\u001b[0m in \u001b[0;36mrequest\u001b[1;34m(self, method, url, params, data, headers, cookies, files, auth, timeout, allow_redirects, proxies, hooks, stream, verify, cert, json)\u001b[0m\n\u001b[0;32m    540\u001b[0m         }\n\u001b[0;32m    541\u001b[0m         \u001b[0msend_kwargs\u001b[0m\u001b[1;33m.\u001b[0m\u001b[0mupdate\u001b[0m\u001b[1;33m(\u001b[0m\u001b[0msettings\u001b[0m\u001b[1;33m)\u001b[0m\u001b[1;33m\u001b[0m\u001b[1;33m\u001b[0m\u001b[0m\n\u001b[1;32m--> 542\u001b[1;33m         \u001b[0mresp\u001b[0m \u001b[1;33m=\u001b[0m \u001b[0mself\u001b[0m\u001b[1;33m.\u001b[0m\u001b[0msend\u001b[0m\u001b[1;33m(\u001b[0m\u001b[0mprep\u001b[0m\u001b[1;33m,\u001b[0m \u001b[1;33m**\u001b[0m\u001b[0msend_kwargs\u001b[0m\u001b[1;33m)\u001b[0m\u001b[1;33m\u001b[0m\u001b[1;33m\u001b[0m\u001b[0m\n\u001b[0m\u001b[0;32m    543\u001b[0m \u001b[1;33m\u001b[0m\u001b[0m\n\u001b[0;32m    544\u001b[0m         \u001b[1;32mreturn\u001b[0m \u001b[0mresp\u001b[0m\u001b[1;33m\u001b[0m\u001b[1;33m\u001b[0m\u001b[0m\n",
      "\u001b[1;32m~\\anaconda3\\envs\\swe\\lib\\site-packages\\requests\\sessions.py\u001b[0m in \u001b[0;36msend\u001b[1;34m(self, request, **kwargs)\u001b[0m\n\u001b[0;32m    653\u001b[0m \u001b[1;33m\u001b[0m\u001b[0m\n\u001b[0;32m    654\u001b[0m         \u001b[1;31m# Send the request\u001b[0m\u001b[1;33m\u001b[0m\u001b[1;33m\u001b[0m\u001b[0m\n\u001b[1;32m--> 655\u001b[1;33m         \u001b[0mr\u001b[0m \u001b[1;33m=\u001b[0m \u001b[0madapter\u001b[0m\u001b[1;33m.\u001b[0m\u001b[0msend\u001b[0m\u001b[1;33m(\u001b[0m\u001b[0mrequest\u001b[0m\u001b[1;33m,\u001b[0m \u001b[1;33m**\u001b[0m\u001b[0mkwargs\u001b[0m\u001b[1;33m)\u001b[0m\u001b[1;33m\u001b[0m\u001b[1;33m\u001b[0m\u001b[0m\n\u001b[0m\u001b[0;32m    656\u001b[0m \u001b[1;33m\u001b[0m\u001b[0m\n\u001b[0;32m    657\u001b[0m         \u001b[1;31m# Total elapsed time of the request (approximately)\u001b[0m\u001b[1;33m\u001b[0m\u001b[1;33m\u001b[0m\u001b[0m\n",
      "\u001b[1;32m~\\anaconda3\\envs\\swe\\lib\\site-packages\\requests\\adapters.py\u001b[0m in \u001b[0;36msend\u001b[1;34m(self, request, stream, timeout, verify, cert, proxies)\u001b[0m\n\u001b[0;32m    512\u001b[0m             \u001b[1;32mif\u001b[0m \u001b[0misinstance\u001b[0m\u001b[1;33m(\u001b[0m\u001b[0me\u001b[0m\u001b[1;33m.\u001b[0m\u001b[0mreason\u001b[0m\u001b[1;33m,\u001b[0m \u001b[0m_SSLError\u001b[0m\u001b[1;33m)\u001b[0m\u001b[1;33m:\u001b[0m\u001b[1;33m\u001b[0m\u001b[1;33m\u001b[0m\u001b[0m\n\u001b[0;32m    513\u001b[0m                 \u001b[1;31m# This branch is for urllib3 v1.22 and later.\u001b[0m\u001b[1;33m\u001b[0m\u001b[1;33m\u001b[0m\u001b[0m\n\u001b[1;32m--> 514\u001b[1;33m                 \u001b[1;32mraise\u001b[0m \u001b[0mSSLError\u001b[0m\u001b[1;33m(\u001b[0m\u001b[0me\u001b[0m\u001b[1;33m,\u001b[0m \u001b[0mrequest\u001b[0m\u001b[1;33m=\u001b[0m\u001b[0mrequest\u001b[0m\u001b[1;33m)\u001b[0m\u001b[1;33m\u001b[0m\u001b[1;33m\u001b[0m\u001b[0m\n\u001b[0m\u001b[0;32m    515\u001b[0m \u001b[1;33m\u001b[0m\u001b[0m\n\u001b[0;32m    516\u001b[0m             \u001b[1;32mraise\u001b[0m \u001b[0mConnectionError\u001b[0m\u001b[1;33m(\u001b[0m\u001b[0me\u001b[0m\u001b[1;33m,\u001b[0m \u001b[0mrequest\u001b[0m\u001b[1;33m=\u001b[0m\u001b[0mrequest\u001b[0m\u001b[1;33m)\u001b[0m\u001b[1;33m\u001b[0m\u001b[1;33m\u001b[0m\u001b[0m\n",
      "\u001b[1;31mSSLError\u001b[0m: HTTPSConnectionPool(host='nwis.waterservices.usgs.gov', port=443): Max retries exceeded with url: /nwis/iv/?site=11251000&startDT=2018-10-01&endDT=2022-04-08&parameterCD=00060&format=json (Caused by SSLError(SSLEOFError(8, 'EOF occurred in violation of protocol (_ssl.c:1129)')))"
     ]
    }
   ],
   "source": [
    "data_downstream, df_downstream = get_details(site =11251000, start_date = '2018-10-01',end_date ='2022-04-08')\n",
    "data_upstream, df_upstream = get_details(site =11224000, start_date = '2019-08-10',end_date ='2022-04-08')\n",
    "# data_three, df_three = get_details(site =11303500, start_date = '2019-01-01',end_date ='2022-02-08')\n",
    "# data_four, df_four = get_details(site =11274000, start_date = '2019-01-01',end_date ='2022-02-08')\n",
    "from dateutil import parser\n",
    "dt_down = [parser.parse(i) for i in df_downstream.index]\n",
    "dt_up = [parser.parse(i) for i in df_upstream.index]\n",
    "#dt_three = [parser.parse(i) for i in df_three.index]\n",
    "# dt_four = [parser.parse(i) for i in df_four.index]\n",
    "creek_start = dt.datetime(year = 2020,month = 8,day = 4)\n",
    "creek_end = dt.datetime(year = 2020,month = 12,day = 24)"
   ]
  },
  {
   "cell_type": "code",
   "execution_count": 5,
   "metadata": {},
   "outputs": [],
   "source": [
    "site_ids = [11251000, 11224000, 11303500, 11274000]\n",
    "lat = [36.98439397, 37.63194444, 37.6760406 , 37.3504928]\n",
    "lon = [-119.7243124, -119.0863889 ,-121.2663293 ,-120.97715]\n",
    "elev = [296.55, 7580, 25,56]\n",
    "area = [1676, 42.,13539,9520 ]\n",
    "river = ['SanJoaquin','SanJoaquin','SanJoaquin','SanJoaquin']\n",
    "metadata = pd.DataFrame(data = [site_ids,lat,lon,elev,area,river])"
   ]
  },
  {
   "cell_type": "code",
   "execution_count": 18,
   "metadata": {},
   "outputs": [
    {
     "data": {
      "image/png": "[encoded data removed]",
      "text/plain": [
       "<Figure size 1440x720 with 1 Axes>"
      ]
     },
     "metadata": {
      "needs_background": "light"
     },
     "output_type": "display_data"
    }
   ],
   "source": [
    "fig,ax = plt.subplots(figsize=(20,10))\n",
    "ax.plot(dt_down, df_downstream['streamflow'].values.astype('float'),'-',label = 'downstream')\n",
    "xx =  [parser.parse(i) for i in data_upstream['datetime']]\n",
    "yy = [float(d) for d in data_upstream['value']]\n",
    "# ax.plot(dt_up, df_upstream['streamflow'].values.astype('float'),'-',label = 'upstream')\n",
    "ax.plot(xx, yy,'-',label = 'upstream')\n",
    "\n",
    "#ax2 = ax.twinx()\n",
    "#ax2.plot(dt_down, df_downstream['temperature'].values.astype('float'),':',label = 'downstream')\n",
    "#ax2.plot(dt_up,df_upstream['temperature'].values.astype('float'),':', label = 'upstream')\n",
    "# ax.plot(dt_three, df_three.values.astype('float'),'-',label = 'three: 11303500')\n",
    "# ax.plot(dt_four, df_four.values.astype('float'),'-',label = 'four: 11274000')\n",
    "y =  df_upstream.values.astype('float').flatten()\n",
    "ax.fill_betweenx([np.nanmin(y),7 * np.nanmax(y)],creek_start,creek_end,color='red',alpha = 0.3)\n",
    "ax.set_ylim(-10,2000)\n",
    "ax.legend()\n",
    "# ax2.legend()\n",
    "ax.set_ylabel('streamflow [cfs]')\n",
    "plt.show()"
   ]
  }
 ],
 "metadata": {
  "interpreter": {
   "hash": "de5d231dad5132826100b9f4984636fcf38463b4e554017da8ead88e76106218"
  },
  "kernelspec": {
   "display_name": "Python 3.9.7 ('swe')",
   "language": "python",
   "name": "python3"
  },
  "language_info": {
   "codemirror_mode": {
    "name": "ipython",
    "version": 3
   },
   "file_extension": ".py",
   "mimetype": "text/x-python",
   "name": "python",
   "nbconvert_exporter": "python",
   "pygments_lexer": "ipython3",
   "version": "3.9.7"
  },
  "orig_nbformat": 4
 },
 "nbformat": 4,
 "nbformat_minor": 2
}
